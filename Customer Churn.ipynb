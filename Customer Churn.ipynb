{
 "cells": [
  {
   "cell_type": "markdown",
   "id": "0db0deeb",
   "metadata": {},
   "source": [
    "# Churning: Customer churn (or customer attrition) refers to the loss of customers or subscribers for any reason or Migrating from one company to another"
   ]
  },
  {
   "cell_type": "code",
   "execution_count": 1,
   "id": "daf6eb98",
   "metadata": {},
   "outputs": [],
   "source": [
    "import numpy as np\n",
    "import pandas as pd\n",
    "import seaborn as sns\n",
    "import matplotlib.pyplot as plt"
   ]
  },
  {
   "cell_type": "code",
   "execution_count": 86,
   "id": "1ecdad0d",
   "metadata": {},
   "outputs": [],
   "source": [
    "from sklearn.metrics import * #Evaluation of the model\n",
    "from sklearn.tree import DecisionTreeClassifier\n",
    "from sklearn.ensemble import RandomForestClassifier\n",
    "from sklearn.preprocessing import LabelEncoder\n",
    "from sklearn.model_selection import train_test_split  # In spliting the data\n",
    "from sklearn.linear_model import LogisticRegression\n",
    "#Algorithms"
   ]
  },
  {
   "cell_type": "code",
   "execution_count": 5,
   "id": "6810d15c",
   "metadata": {},
   "outputs": [],
   "source": [
    "df=pd.read_csv(\"customer_churn.csv\")"
   ]
  },
  {
   "cell_type": "code",
   "execution_count": 6,
   "id": "628863ae",
   "metadata": {},
   "outputs": [
    {
     "data": {
      "text/html": [
       "<div>\n",
       "<style scoped>\n",
       "    .dataframe tbody tr th:only-of-type {\n",
       "        vertical-align: middle;\n",
       "    }\n",
       "\n",
       "    .dataframe tbody tr th {\n",
       "        vertical-align: top;\n",
       "    }\n",
       "\n",
       "    .dataframe thead th {\n",
       "        text-align: right;\n",
       "    }\n",
       "</style>\n",
       "<table border=\"1\" class=\"dataframe\">\n",
       "  <thead>\n",
       "    <tr style=\"text-align: right;\">\n",
       "      <th></th>\n",
       "      <th>customerID</th>\n",
       "      <th>gender</th>\n",
       "      <th>SeniorCitizen</th>\n",
       "      <th>Partner</th>\n",
       "      <th>Dependents</th>\n",
       "      <th>tenure</th>\n",
       "      <th>PhoneService</th>\n",
       "      <th>MultipleLines</th>\n",
       "      <th>InternetService</th>\n",
       "      <th>OnlineSecurity</th>\n",
       "      <th>...</th>\n",
       "      <th>DeviceProtection</th>\n",
       "      <th>TechSupport</th>\n",
       "      <th>StreamingTV</th>\n",
       "      <th>StreamingMovies</th>\n",
       "      <th>Contract</th>\n",
       "      <th>PaperlessBilling</th>\n",
       "      <th>PaymentMethod</th>\n",
       "      <th>MonthlyCharges</th>\n",
       "      <th>TotalCharges</th>\n",
       "      <th>Churn</th>\n",
       "    </tr>\n",
       "  </thead>\n",
       "  <tbody>\n",
       "    <tr>\n",
       "      <th>0</th>\n",
       "      <td>7590-VHVEG</td>\n",
       "      <td>Female</td>\n",
       "      <td>0</td>\n",
       "      <td>Yes</td>\n",
       "      <td>No</td>\n",
       "      <td>1</td>\n",
       "      <td>No</td>\n",
       "      <td>No phone service</td>\n",
       "      <td>DSL</td>\n",
       "      <td>No</td>\n",
       "      <td>...</td>\n",
       "      <td>No</td>\n",
       "      <td>No</td>\n",
       "      <td>No</td>\n",
       "      <td>No</td>\n",
       "      <td>Month-to-month</td>\n",
       "      <td>Yes</td>\n",
       "      <td>Electronic check</td>\n",
       "      <td>29.85</td>\n",
       "      <td>29.85</td>\n",
       "      <td>No</td>\n",
       "    </tr>\n",
       "    <tr>\n",
       "      <th>1</th>\n",
       "      <td>5575-GNVDE</td>\n",
       "      <td>Male</td>\n",
       "      <td>0</td>\n",
       "      <td>No</td>\n",
       "      <td>No</td>\n",
       "      <td>34</td>\n",
       "      <td>Yes</td>\n",
       "      <td>No</td>\n",
       "      <td>DSL</td>\n",
       "      <td>Yes</td>\n",
       "      <td>...</td>\n",
       "      <td>Yes</td>\n",
       "      <td>No</td>\n",
       "      <td>No</td>\n",
       "      <td>No</td>\n",
       "      <td>One year</td>\n",
       "      <td>No</td>\n",
       "      <td>Mailed check</td>\n",
       "      <td>56.95</td>\n",
       "      <td>1889.5</td>\n",
       "      <td>No</td>\n",
       "    </tr>\n",
       "    <tr>\n",
       "      <th>2</th>\n",
       "      <td>3668-QPYBK</td>\n",
       "      <td>Male</td>\n",
       "      <td>0</td>\n",
       "      <td>No</td>\n",
       "      <td>No</td>\n",
       "      <td>2</td>\n",
       "      <td>Yes</td>\n",
       "      <td>No</td>\n",
       "      <td>DSL</td>\n",
       "      <td>Yes</td>\n",
       "      <td>...</td>\n",
       "      <td>No</td>\n",
       "      <td>No</td>\n",
       "      <td>No</td>\n",
       "      <td>No</td>\n",
       "      <td>Month-to-month</td>\n",
       "      <td>Yes</td>\n",
       "      <td>Mailed check</td>\n",
       "      <td>53.85</td>\n",
       "      <td>108.15</td>\n",
       "      <td>Yes</td>\n",
       "    </tr>\n",
       "  </tbody>\n",
       "</table>\n",
       "<p>3 rows × 21 columns</p>\n",
       "</div>"
      ],
      "text/plain": [
       "   customerID  gender  SeniorCitizen Partner Dependents  tenure PhoneService  \\\n",
       "0  7590-VHVEG  Female              0     Yes         No       1           No   \n",
       "1  5575-GNVDE    Male              0      No         No      34          Yes   \n",
       "2  3668-QPYBK    Male              0      No         No       2          Yes   \n",
       "\n",
       "      MultipleLines InternetService OnlineSecurity  ... DeviceProtection  \\\n",
       "0  No phone service             DSL             No  ...               No   \n",
       "1                No             DSL            Yes  ...              Yes   \n",
       "2                No             DSL            Yes  ...               No   \n",
       "\n",
       "  TechSupport StreamingTV StreamingMovies        Contract PaperlessBilling  \\\n",
       "0          No          No              No  Month-to-month              Yes   \n",
       "1          No          No              No        One year               No   \n",
       "2          No          No              No  Month-to-month              Yes   \n",
       "\n",
       "      PaymentMethod MonthlyCharges  TotalCharges Churn  \n",
       "0  Electronic check          29.85         29.85    No  \n",
       "1      Mailed check          56.95        1889.5    No  \n",
       "2      Mailed check          53.85        108.15   Yes  \n",
       "\n",
       "[3 rows x 21 columns]"
      ]
     },
     "execution_count": 6,
     "metadata": {},
     "output_type": "execute_result"
    }
   ],
   "source": [
    "df.head(3)"
   ]
  },
  {
   "cell_type": "markdown",
   "id": "41f9951c",
   "metadata": {},
   "source": [
    "churn yes: leaving the company \n",
    "\n",
    "churn no: not laving"
   ]
  },
  {
   "cell_type": "markdown",
   "id": "251173be",
   "metadata": {},
   "source": [
    "Insights\n",
    "\n",
    "* There is a combination of continuous and discrete columns in the data\n",
    "* CustomerID columns, it is not very relevant\n",
    "* Target Columns is Churn\n",
    "* MonthlyCharges and TotalCharges, they can be used for framing a regression problem"
   ]
  },
  {
   "cell_type": "code",
   "execution_count": 12,
   "id": "ca376274",
   "metadata": {},
   "outputs": [
    {
     "name": "stdout",
     "output_type": "stream",
     "text": [
      "<class 'pandas.core.frame.DataFrame'>\n",
      "RangeIndex: 7043 entries, 0 to 7042\n",
      "Data columns (total 21 columns):\n",
      " #   Column            Non-Null Count  Dtype  \n",
      "---  ------            --------------  -----  \n",
      " 0   customerID        7043 non-null   object \n",
      " 1   gender            7043 non-null   object \n",
      " 2   SeniorCitizen     7043 non-null   int64  \n",
      " 3   Partner           7043 non-null   object \n",
      " 4   Dependents        7043 non-null   object \n",
      " 5   tenure            7043 non-null   int64  \n",
      " 6   PhoneService      7043 non-null   object \n",
      " 7   MultipleLines     7043 non-null   object \n",
      " 8   InternetService   7043 non-null   object \n",
      " 9   OnlineSecurity    7043 non-null   object \n",
      " 10  OnlineBackup      7043 non-null   object \n",
      " 11  DeviceProtection  7043 non-null   object \n",
      " 12  TechSupport       7043 non-null   object \n",
      " 13  StreamingTV       7043 non-null   object \n",
      " 14  StreamingMovies   7043 non-null   object \n",
      " 15  Contract          7043 non-null   object \n",
      " 16  PaperlessBilling  7043 non-null   object \n",
      " 17  PaymentMethod     7043 non-null   object \n",
      " 18  MonthlyCharges    7043 non-null   float64\n",
      " 19  TotalCharges      7043 non-null   object \n",
      " 20  Churn             7043 non-null   object \n",
      "dtypes: float64(1), int64(2), object(18)\n",
      "memory usage: 1.1+ MB\n"
     ]
    }
   ],
   "source": [
    "df.info()"
   ]
  },
  {
   "cell_type": "markdown",
   "id": "c1168366",
   "metadata": {},
   "source": [
    "What is the diff between info() and describe()\n",
    "* Info(): This will give you a ageneral idea of the data\n",
    "* Describe(): This will five the statistical info about the data"
   ]
  },
  {
   "cell_type": "code",
   "execution_count": 17,
   "id": "8a1861e5",
   "metadata": {},
   "outputs": [
    {
     "data": {
      "text/html": [
       "<div>\n",
       "<style scoped>\n",
       "    .dataframe tbody tr th:only-of-type {\n",
       "        vertical-align: middle;\n",
       "    }\n",
       "\n",
       "    .dataframe tbody tr th {\n",
       "        vertical-align: top;\n",
       "    }\n",
       "\n",
       "    .dataframe thead th {\n",
       "        text-align: right;\n",
       "    }\n",
       "</style>\n",
       "<table border=\"1\" class=\"dataframe\">\n",
       "  <thead>\n",
       "    <tr style=\"text-align: right;\">\n",
       "      <th></th>\n",
       "      <th>count</th>\n",
       "      <th>unique</th>\n",
       "      <th>top</th>\n",
       "      <th>freq</th>\n",
       "    </tr>\n",
       "  </thead>\n",
       "  <tbody>\n",
       "    <tr>\n",
       "      <th>customerID</th>\n",
       "      <td>7043</td>\n",
       "      <td>7043</td>\n",
       "      <td>7590-VHVEG</td>\n",
       "      <td>1</td>\n",
       "    </tr>\n",
       "    <tr>\n",
       "      <th>gender</th>\n",
       "      <td>7043</td>\n",
       "      <td>2</td>\n",
       "      <td>Male</td>\n",
       "      <td>3555</td>\n",
       "    </tr>\n",
       "    <tr>\n",
       "      <th>Partner</th>\n",
       "      <td>7043</td>\n",
       "      <td>2</td>\n",
       "      <td>No</td>\n",
       "      <td>3641</td>\n",
       "    </tr>\n",
       "    <tr>\n",
       "      <th>Dependents</th>\n",
       "      <td>7043</td>\n",
       "      <td>2</td>\n",
       "      <td>No</td>\n",
       "      <td>4933</td>\n",
       "    </tr>\n",
       "    <tr>\n",
       "      <th>PhoneService</th>\n",
       "      <td>7043</td>\n",
       "      <td>2</td>\n",
       "      <td>Yes</td>\n",
       "      <td>6361</td>\n",
       "    </tr>\n",
       "    <tr>\n",
       "      <th>MultipleLines</th>\n",
       "      <td>7043</td>\n",
       "      <td>3</td>\n",
       "      <td>No</td>\n",
       "      <td>3390</td>\n",
       "    </tr>\n",
       "    <tr>\n",
       "      <th>InternetService</th>\n",
       "      <td>7043</td>\n",
       "      <td>3</td>\n",
       "      <td>Fiber optic</td>\n",
       "      <td>3096</td>\n",
       "    </tr>\n",
       "    <tr>\n",
       "      <th>OnlineSecurity</th>\n",
       "      <td>7043</td>\n",
       "      <td>3</td>\n",
       "      <td>No</td>\n",
       "      <td>3498</td>\n",
       "    </tr>\n",
       "    <tr>\n",
       "      <th>OnlineBackup</th>\n",
       "      <td>7043</td>\n",
       "      <td>3</td>\n",
       "      <td>No</td>\n",
       "      <td>3088</td>\n",
       "    </tr>\n",
       "    <tr>\n",
       "      <th>DeviceProtection</th>\n",
       "      <td>7043</td>\n",
       "      <td>3</td>\n",
       "      <td>No</td>\n",
       "      <td>3095</td>\n",
       "    </tr>\n",
       "    <tr>\n",
       "      <th>TechSupport</th>\n",
       "      <td>7043</td>\n",
       "      <td>3</td>\n",
       "      <td>No</td>\n",
       "      <td>3473</td>\n",
       "    </tr>\n",
       "    <tr>\n",
       "      <th>StreamingTV</th>\n",
       "      <td>7043</td>\n",
       "      <td>3</td>\n",
       "      <td>No</td>\n",
       "      <td>2810</td>\n",
       "    </tr>\n",
       "    <tr>\n",
       "      <th>StreamingMovies</th>\n",
       "      <td>7043</td>\n",
       "      <td>3</td>\n",
       "      <td>No</td>\n",
       "      <td>2785</td>\n",
       "    </tr>\n",
       "    <tr>\n",
       "      <th>Contract</th>\n",
       "      <td>7043</td>\n",
       "      <td>3</td>\n",
       "      <td>Month-to-month</td>\n",
       "      <td>3875</td>\n",
       "    </tr>\n",
       "    <tr>\n",
       "      <th>PaperlessBilling</th>\n",
       "      <td>7043</td>\n",
       "      <td>2</td>\n",
       "      <td>Yes</td>\n",
       "      <td>4171</td>\n",
       "    </tr>\n",
       "    <tr>\n",
       "      <th>PaymentMethod</th>\n",
       "      <td>7043</td>\n",
       "      <td>4</td>\n",
       "      <td>Electronic check</td>\n",
       "      <td>2365</td>\n",
       "    </tr>\n",
       "    <tr>\n",
       "      <th>TotalCharges</th>\n",
       "      <td>7043</td>\n",
       "      <td>6531</td>\n",
       "      <td></td>\n",
       "      <td>11</td>\n",
       "    </tr>\n",
       "    <tr>\n",
       "      <th>Churn</th>\n",
       "      <td>7043</td>\n",
       "      <td>2</td>\n",
       "      <td>No</td>\n",
       "      <td>5174</td>\n",
       "    </tr>\n",
       "  </tbody>\n",
       "</table>\n",
       "</div>"
      ],
      "text/plain": [
       "                 count unique               top  freq\n",
       "customerID        7043   7043        7590-VHVEG     1\n",
       "gender            7043      2              Male  3555\n",
       "Partner           7043      2                No  3641\n",
       "Dependents        7043      2                No  4933\n",
       "PhoneService      7043      2               Yes  6361\n",
       "MultipleLines     7043      3                No  3390\n",
       "InternetService   7043      3       Fiber optic  3096\n",
       "OnlineSecurity    7043      3                No  3498\n",
       "OnlineBackup      7043      3                No  3088\n",
       "DeviceProtection  7043      3                No  3095\n",
       "TechSupport       7043      3                No  3473\n",
       "StreamingTV       7043      3                No  2810\n",
       "StreamingMovies   7043      3                No  2785\n",
       "Contract          7043      3    Month-to-month  3875\n",
       "PaperlessBilling  7043      2               Yes  4171\n",
       "PaymentMethod     7043      4  Electronic check  2365\n",
       "TotalCharges      7043   6531                      11\n",
       "Churn             7043      2                No  5174"
      ]
     },
     "execution_count": 17,
     "metadata": {},
     "output_type": "execute_result"
    }
   ],
   "source": [
    "df.describe(include=\"O\").T"
   ]
  },
  {
   "cell_type": "code",
   "execution_count": 19,
   "id": "f1b74b5b",
   "metadata": {},
   "outputs": [],
   "source": [
    "df=df.drop([\"customerID\"],axis=1)"
   ]
  },
  {
   "cell_type": "code",
   "execution_count": 20,
   "id": "b57bf793",
   "metadata": {},
   "outputs": [
    {
     "data": {
      "text/html": [
       "<div>\n",
       "<style scoped>\n",
       "    .dataframe tbody tr th:only-of-type {\n",
       "        vertical-align: middle;\n",
       "    }\n",
       "\n",
       "    .dataframe tbody tr th {\n",
       "        vertical-align: top;\n",
       "    }\n",
       "\n",
       "    .dataframe thead th {\n",
       "        text-align: right;\n",
       "    }\n",
       "</style>\n",
       "<table border=\"1\" class=\"dataframe\">\n",
       "  <thead>\n",
       "    <tr style=\"text-align: right;\">\n",
       "      <th></th>\n",
       "      <th>gender</th>\n",
       "      <th>SeniorCitizen</th>\n",
       "      <th>Partner</th>\n",
       "      <th>Dependents</th>\n",
       "      <th>tenure</th>\n",
       "      <th>PhoneService</th>\n",
       "      <th>MultipleLines</th>\n",
       "      <th>InternetService</th>\n",
       "      <th>OnlineSecurity</th>\n",
       "      <th>OnlineBackup</th>\n",
       "      <th>DeviceProtection</th>\n",
       "      <th>TechSupport</th>\n",
       "      <th>StreamingTV</th>\n",
       "      <th>StreamingMovies</th>\n",
       "      <th>Contract</th>\n",
       "      <th>PaperlessBilling</th>\n",
       "      <th>PaymentMethod</th>\n",
       "      <th>MonthlyCharges</th>\n",
       "      <th>TotalCharges</th>\n",
       "      <th>Churn</th>\n",
       "    </tr>\n",
       "  </thead>\n",
       "  <tbody>\n",
       "    <tr>\n",
       "      <th>0</th>\n",
       "      <td>Female</td>\n",
       "      <td>0</td>\n",
       "      <td>Yes</td>\n",
       "      <td>No</td>\n",
       "      <td>1</td>\n",
       "      <td>No</td>\n",
       "      <td>No phone service</td>\n",
       "      <td>DSL</td>\n",
       "      <td>No</td>\n",
       "      <td>Yes</td>\n",
       "      <td>No</td>\n",
       "      <td>No</td>\n",
       "      <td>No</td>\n",
       "      <td>No</td>\n",
       "      <td>Month-to-month</td>\n",
       "      <td>Yes</td>\n",
       "      <td>Electronic check</td>\n",
       "      <td>29.85</td>\n",
       "      <td>29.85</td>\n",
       "      <td>No</td>\n",
       "    </tr>\n",
       "    <tr>\n",
       "      <th>1</th>\n",
       "      <td>Male</td>\n",
       "      <td>0</td>\n",
       "      <td>No</td>\n",
       "      <td>No</td>\n",
       "      <td>34</td>\n",
       "      <td>Yes</td>\n",
       "      <td>No</td>\n",
       "      <td>DSL</td>\n",
       "      <td>Yes</td>\n",
       "      <td>No</td>\n",
       "      <td>Yes</td>\n",
       "      <td>No</td>\n",
       "      <td>No</td>\n",
       "      <td>No</td>\n",
       "      <td>One year</td>\n",
       "      <td>No</td>\n",
       "      <td>Mailed check</td>\n",
       "      <td>56.95</td>\n",
       "      <td>1889.5</td>\n",
       "      <td>No</td>\n",
       "    </tr>\n",
       "    <tr>\n",
       "      <th>2</th>\n",
       "      <td>Male</td>\n",
       "      <td>0</td>\n",
       "      <td>No</td>\n",
       "      <td>No</td>\n",
       "      <td>2</td>\n",
       "      <td>Yes</td>\n",
       "      <td>No</td>\n",
       "      <td>DSL</td>\n",
       "      <td>Yes</td>\n",
       "      <td>Yes</td>\n",
       "      <td>No</td>\n",
       "      <td>No</td>\n",
       "      <td>No</td>\n",
       "      <td>No</td>\n",
       "      <td>Month-to-month</td>\n",
       "      <td>Yes</td>\n",
       "      <td>Mailed check</td>\n",
       "      <td>53.85</td>\n",
       "      <td>108.15</td>\n",
       "      <td>Yes</td>\n",
       "    </tr>\n",
       "    <tr>\n",
       "      <th>3</th>\n",
       "      <td>Male</td>\n",
       "      <td>0</td>\n",
       "      <td>No</td>\n",
       "      <td>No</td>\n",
       "      <td>45</td>\n",
       "      <td>No</td>\n",
       "      <td>No phone service</td>\n",
       "      <td>DSL</td>\n",
       "      <td>Yes</td>\n",
       "      <td>No</td>\n",
       "      <td>Yes</td>\n",
       "      <td>Yes</td>\n",
       "      <td>No</td>\n",
       "      <td>No</td>\n",
       "      <td>One year</td>\n",
       "      <td>No</td>\n",
       "      <td>Bank transfer (automatic)</td>\n",
       "      <td>42.30</td>\n",
       "      <td>1840.75</td>\n",
       "      <td>No</td>\n",
       "    </tr>\n",
       "    <tr>\n",
       "      <th>4</th>\n",
       "      <td>Female</td>\n",
       "      <td>0</td>\n",
       "      <td>No</td>\n",
       "      <td>No</td>\n",
       "      <td>2</td>\n",
       "      <td>Yes</td>\n",
       "      <td>No</td>\n",
       "      <td>Fiber optic</td>\n",
       "      <td>No</td>\n",
       "      <td>No</td>\n",
       "      <td>No</td>\n",
       "      <td>No</td>\n",
       "      <td>No</td>\n",
       "      <td>No</td>\n",
       "      <td>Month-to-month</td>\n",
       "      <td>Yes</td>\n",
       "      <td>Electronic check</td>\n",
       "      <td>70.70</td>\n",
       "      <td>151.65</td>\n",
       "      <td>Yes</td>\n",
       "    </tr>\n",
       "  </tbody>\n",
       "</table>\n",
       "</div>"
      ],
      "text/plain": [
       "   gender  SeniorCitizen Partner Dependents  tenure PhoneService  \\\n",
       "0  Female              0     Yes         No       1           No   \n",
       "1    Male              0      No         No      34          Yes   \n",
       "2    Male              0      No         No       2          Yes   \n",
       "3    Male              0      No         No      45           No   \n",
       "4  Female              0      No         No       2          Yes   \n",
       "\n",
       "      MultipleLines InternetService OnlineSecurity OnlineBackup  \\\n",
       "0  No phone service             DSL             No          Yes   \n",
       "1                No             DSL            Yes           No   \n",
       "2                No             DSL            Yes          Yes   \n",
       "3  No phone service             DSL            Yes           No   \n",
       "4                No     Fiber optic             No           No   \n",
       "\n",
       "  DeviceProtection TechSupport StreamingTV StreamingMovies        Contract  \\\n",
       "0               No          No          No              No  Month-to-month   \n",
       "1              Yes          No          No              No        One year   \n",
       "2               No          No          No              No  Month-to-month   \n",
       "3              Yes         Yes          No              No        One year   \n",
       "4               No          No          No              No  Month-to-month   \n",
       "\n",
       "  PaperlessBilling              PaymentMethod  MonthlyCharges TotalCharges  \\\n",
       "0              Yes           Electronic check           29.85        29.85   \n",
       "1               No               Mailed check           56.95       1889.5   \n",
       "2              Yes               Mailed check           53.85       108.15   \n",
       "3               No  Bank transfer (automatic)           42.30      1840.75   \n",
       "4              Yes           Electronic check           70.70       151.65   \n",
       "\n",
       "  Churn  \n",
       "0    No  \n",
       "1    No  \n",
       "2   Yes  \n",
       "3    No  \n",
       "4   Yes  "
      ]
     },
     "execution_count": 20,
     "metadata": {},
     "output_type": "execute_result"
    }
   ],
   "source": [
    "df.head()"
   ]
  },
  {
   "cell_type": "code",
   "execution_count": 21,
   "id": "9ac63029",
   "metadata": {},
   "outputs": [],
   "source": [
    "# SHape Inspection"
   ]
  },
  {
   "cell_type": "code",
   "execution_count": 23,
   "id": "8a671c6e",
   "metadata": {},
   "outputs": [
    {
     "name": "stdout",
     "output_type": "stream",
     "text": [
      "Rows:7043\n",
      "Columns:20\n"
     ]
    }
   ],
   "source": [
    "print(f\"Rows:{df.shape[0]}\")\n",
    "print(f\"Columns:{df.shape[1]}\")"
   ]
  },
  {
   "cell_type": "code",
   "execution_count": 26,
   "id": "eedd359e",
   "metadata": {},
   "outputs": [
    {
     "data": {
      "text/plain": [
       "TotalCharges\n",
       "          11\n",
       "20.2      11\n",
       "19.75      9\n",
       "20.05      8\n",
       "19.9       8\n",
       "          ..\n",
       "6849.4     1\n",
       "692.35     1\n",
       "130.15     1\n",
       "3211.9     1\n",
       "6844.5     1\n",
       "Name: count, Length: 6531, dtype: int64"
      ]
     },
     "execution_count": 26,
     "metadata": {},
     "output_type": "execute_result"
    }
   ],
   "source": [
    "df[\"TotalCharges\"].value_counts()"
   ]
  },
  {
   "cell_type": "code",
   "execution_count": 25,
   "id": "6f249fd6",
   "metadata": {},
   "outputs": [
    {
     "data": {
      "text/plain": [
       "(11, 20)"
      ]
     },
     "execution_count": 25,
     "metadata": {},
     "output_type": "execute_result"
    }
   ],
   "source": [
    "df[df[\"TotalCharges\"]==\" \"].shape"
   ]
  },
  {
   "cell_type": "markdown",
   "id": "f3d46acd",
   "metadata": {},
   "source": [
    "There are multiple ways to tackle this problem\n",
    "* We can replace this space by the mean\n",
    "* We can convert these spaces into NaN, and then can drop them"
   ]
  },
  {
   "cell_type": "code",
   "execution_count": 27,
   "id": "e876fbc5",
   "metadata": {},
   "outputs": [],
   "source": [
    "df[\"TotalCharges\"] = df[\"TotalCharges\"].replace(\" \", np.nan).astype(float)"
   ]
  },
  {
   "cell_type": "code",
   "execution_count": 28,
   "id": "4cff8528",
   "metadata": {},
   "outputs": [
    {
     "data": {
      "text/plain": [
       "(0, 20)"
      ]
     },
     "execution_count": 28,
     "metadata": {},
     "output_type": "execute_result"
    }
   ],
   "source": [
    "df[df[\"TotalCharges\"]==\" \"].shape"
   ]
  },
  {
   "cell_type": "code",
   "execution_count": 29,
   "id": "017822fb",
   "metadata": {},
   "outputs": [],
   "source": [
    "df[\"TotalCharges\"] = df[\"TotalCharges\"].fillna(df[\"TotalCharges\"].mean())"
   ]
  },
  {
   "cell_type": "code",
   "execution_count": 30,
   "id": "831259e2",
   "metadata": {},
   "outputs": [
    {
     "data": {
      "text/plain": [
       "(0, 20)"
      ]
     },
     "execution_count": 30,
     "metadata": {},
     "output_type": "execute_result"
    }
   ],
   "source": [
    "df[df[\"TotalCharges\"]==\" \"].shape"
   ]
  },
  {
   "cell_type": "code",
   "execution_count": 31,
   "id": "02f41710",
   "metadata": {},
   "outputs": [
    {
     "data": {
      "text/plain": [
       "gender              0\n",
       "SeniorCitizen       0\n",
       "Partner             0\n",
       "Dependents          0\n",
       "tenure              0\n",
       "PhoneService        0\n",
       "MultipleLines       0\n",
       "InternetService     0\n",
       "OnlineSecurity      0\n",
       "OnlineBackup        0\n",
       "DeviceProtection    0\n",
       "TechSupport         0\n",
       "StreamingTV         0\n",
       "StreamingMovies     0\n",
       "Contract            0\n",
       "PaperlessBilling    0\n",
       "PaymentMethod       0\n",
       "MonthlyCharges      0\n",
       "TotalCharges        0\n",
       "Churn               0\n",
       "dtype: int64"
      ]
     },
     "execution_count": 31,
     "metadata": {},
     "output_type": "execute_result"
    }
   ],
   "source": [
    "df.isnull().sum()"
   ]
  },
  {
   "cell_type": "code",
   "execution_count": 32,
   "id": "5bdadb7f",
   "metadata": {},
   "outputs": [],
   "source": [
    "df=df.dropna()"
   ]
  },
  {
   "cell_type": "code",
   "execution_count": 33,
   "id": "d3fb70f5",
   "metadata": {},
   "outputs": [],
   "source": [
    "df=df.drop_duplicates()"
   ]
  },
  {
   "cell_type": "code",
   "execution_count": 34,
   "id": "f01f495c",
   "metadata": {},
   "outputs": [],
   "source": [
    "senior_male_electronic=df[(df[\"SeniorCitizen\"]==1)&(df[\"gender\"]==\"Male\")&(df[\"PaymentMethod\"]==\"Electronic check\")]"
   ]
  },
  {
   "cell_type": "code",
   "execution_count": 35,
   "id": "a622a48d",
   "metadata": {},
   "outputs": [
    {
     "data": {
      "text/plain": [
       "(298, 20)"
      ]
     },
     "execution_count": 35,
     "metadata": {},
     "output_type": "execute_result"
    }
   ],
   "source": [
    "senior_male_electronic.shape"
   ]
  },
  {
   "cell_type": "code",
   "execution_count": 36,
   "id": "8aa64b1b",
   "metadata": {},
   "outputs": [],
   "source": [
    "customer_total_tenure=df[(df[\"tenure\"]>70)&(df[\"MonthlyCharges\"]>100)]"
   ]
  },
  {
   "cell_type": "code",
   "execution_count": 37,
   "id": "3d6c0c38",
   "metadata": {},
   "outputs": [
    {
     "data": {
      "text/plain": [
       "(175, 20)"
      ]
     },
     "execution_count": 37,
     "metadata": {},
     "output_type": "execute_result"
    }
   ],
   "source": [
    "customer_total_tenure.shape"
   ]
  },
  {
   "cell_type": "code",
   "execution_count": 38,
   "id": "df429646",
   "metadata": {},
   "outputs": [
    {
     "data": {
      "text/plain": [
       "(8, 20)"
      ]
     },
     "execution_count": 38,
     "metadata": {},
     "output_type": "execute_result"
    }
   ],
   "source": [
    "customer_total_tenure[customer_total_tenure[\"Churn\"] == \"Yes\"].shape"
   ]
  },
  {
   "cell_type": "code",
   "execution_count": 40,
   "id": "8bc4a6a1",
   "metadata": {},
   "outputs": [],
   "source": [
    "two_mail_year = df[(df[\"Contract\"] == \"Two year\") & (df[\"PaymentMethod\"] == \"Mailed\") & (df[\"Churn\"] == \"Yes\")]"
   ]
  },
  {
   "cell_type": "code",
   "execution_count": 41,
   "id": "70aac9f0",
   "metadata": {},
   "outputs": [
    {
     "data": {
      "text/plain": [
       "(0, 20)"
      ]
     },
     "execution_count": 41,
     "metadata": {},
     "output_type": "execute_result"
    }
   ],
   "source": [
    "two_mail_year.shape"
   ]
  },
  {
   "cell_type": "code",
   "execution_count": 43,
   "id": "ca50376b",
   "metadata": {},
   "outputs": [
    {
     "data": {
      "text/plain": [
       "Contract\n",
       "Month-to-month    3853\n",
       "Two year          1695\n",
       "One year          1473\n",
       "Name: count, dtype: int64"
      ]
     },
     "execution_count": 43,
     "metadata": {},
     "output_type": "execute_result"
    }
   ],
   "source": [
    "df[\"Contract\"].value_counts()"
   ]
  },
  {
   "cell_type": "code",
   "execution_count": 47,
   "id": "dc355fc3",
   "metadata": {},
   "outputs": [
    {
     "data": {
      "text/plain": [
       "Text(0, 0.5, 'Count of Customers')"
      ]
     },
     "execution_count": 47,
     "metadata": {},
     "output_type": "execute_result"
    },
    {
     "data": {
      "image/png": "[encoded data removed]",
      "text/plain": [
       "<Figure size 640x480 with 1 Axes>"
      ]
     },
     "metadata": {},
     "output_type": "display_data"
    }
   ],
   "source": [
    "ax = df[\"Contract\"].value_counts().plot(kind = \"bar\", color = \"red\")\n",
    "ax.set_ylabel(\"Count of Customers\")\n"
   ]
  },
  {
   "cell_type": "code",
   "execution_count": 49,
   "id": "6e99957f",
   "metadata": {},
   "outputs": [],
   "source": [
    "# insights\n",
    "# *The majority of the custs belong to month to month contract"
   ]
  },
  {
   "cell_type": "code",
   "execution_count": 56,
   "id": "905a328d",
   "metadata": {},
   "outputs": [
    {
     "data": {
      "text/plain": [
       "<Axes: ylabel='count'>"
      ]
     },
     "execution_count": 56,
     "metadata": {},
     "output_type": "execute_result"
    },
    {
     "data": {
      "image/png": "[encoded data removed]",
      "text/plain": [
       "<Figure size 640x480 with 1 Axes>"
      ]
     },
     "metadata": {},
     "output_type": "display_data"
    }
   ],
   "source": [
    "sns.countplot(df[\"Contract\"])"
   ]
  },
  {
   "cell_type": "code",
   "execution_count": 50,
   "id": "18819772",
   "metadata": {},
   "outputs": [
    {
     "data": {
      "text/html": [
       "<div>\n",
       "<style scoped>\n",
       "    .dataframe tbody tr th:only-of-type {\n",
       "        vertical-align: middle;\n",
       "    }\n",
       "\n",
       "    .dataframe tbody tr th {\n",
       "        vertical-align: top;\n",
       "    }\n",
       "\n",
       "    .dataframe thead th {\n",
       "        text-align: right;\n",
       "    }\n",
       "</style>\n",
       "<table border=\"1\" class=\"dataframe\">\n",
       "  <thead>\n",
       "    <tr style=\"text-align: right;\">\n",
       "      <th></th>\n",
       "      <th>SeniorCitizen</th>\n",
       "      <th>tenure</th>\n",
       "      <th>MonthlyCharges</th>\n",
       "      <th>TotalCharges</th>\n",
       "    </tr>\n",
       "  </thead>\n",
       "  <tbody>\n",
       "    <tr>\n",
       "      <th>SeniorCitizen</th>\n",
       "      <td>1.000000</td>\n",
       "      <td>0.015349</td>\n",
       "      <td>0.219434</td>\n",
       "      <td>0.101628</td>\n",
       "    </tr>\n",
       "    <tr>\n",
       "      <th>tenure</th>\n",
       "      <td>0.015349</td>\n",
       "      <td>1.000000</td>\n",
       "      <td>0.245251</td>\n",
       "      <td>0.824164</td>\n",
       "    </tr>\n",
       "    <tr>\n",
       "      <th>MonthlyCharges</th>\n",
       "      <td>0.219434</td>\n",
       "      <td>0.245251</td>\n",
       "      <td>1.000000</td>\n",
       "      <td>0.649942</td>\n",
       "    </tr>\n",
       "    <tr>\n",
       "      <th>TotalCharges</th>\n",
       "      <td>0.101628</td>\n",
       "      <td>0.824164</td>\n",
       "      <td>0.649942</td>\n",
       "      <td>1.000000</td>\n",
       "    </tr>\n",
       "  </tbody>\n",
       "</table>\n",
       "</div>"
      ],
      "text/plain": [
       "                SeniorCitizen    tenure  MonthlyCharges  TotalCharges\n",
       "SeniorCitizen        1.000000  0.015349        0.219434      0.101628\n",
       "tenure               0.015349  1.000000        0.245251      0.824164\n",
       "MonthlyCharges       0.219434  0.245251        1.000000      0.649942\n",
       "TotalCharges         0.101628  0.824164        0.649942      1.000000"
      ]
     },
     "execution_count": 50,
     "metadata": {},
     "output_type": "execute_result"
    }
   ],
   "source": [
    "df.corr(numeric_only=True)"
   ]
  },
  {
   "cell_type": "code",
   "execution_count": 51,
   "id": "7702a01d",
   "metadata": {},
   "outputs": [],
   "source": [
    "#ENCODE THE DATA"
   ]
  },
  {
   "cell_type": "code",
   "execution_count": 52,
   "id": "4e66ccec",
   "metadata": {},
   "outputs": [],
   "source": [
    "encoder= LabelEncoder()"
   ]
  },
  {
   "cell_type": "code",
   "execution_count": 54,
   "id": "9c5ef16d",
   "metadata": {},
   "outputs": [],
   "source": [
    "for x in df.columns:\n",
    "    if df[x].dtype==\"object\":\n",
    "        df[x]=encoder.fit_transform(df[x])"
   ]
  },
  {
   "cell_type": "code",
   "execution_count": 55,
   "id": "10ea1c3c",
   "metadata": {},
   "outputs": [
    {
     "data": {
      "text/html": [
       "<div>\n",
       "<style scoped>\n",
       "    .dataframe tbody tr th:only-of-type {\n",
       "        vertical-align: middle;\n",
       "    }\n",
       "\n",
       "    .dataframe tbody tr th {\n",
       "        vertical-align: top;\n",
       "    }\n",
       "\n",
       "    .dataframe thead th {\n",
       "        text-align: right;\n",
       "    }\n",
       "</style>\n",
       "<table border=\"1\" class=\"dataframe\">\n",
       "  <thead>\n",
       "    <tr style=\"text-align: right;\">\n",
       "      <th></th>\n",
       "      <th>gender</th>\n",
       "      <th>SeniorCitizen</th>\n",
       "      <th>Partner</th>\n",
       "      <th>Dependents</th>\n",
       "      <th>tenure</th>\n",
       "      <th>PhoneService</th>\n",
       "      <th>MultipleLines</th>\n",
       "      <th>InternetService</th>\n",
       "      <th>OnlineSecurity</th>\n",
       "      <th>OnlineBackup</th>\n",
       "      <th>DeviceProtection</th>\n",
       "      <th>TechSupport</th>\n",
       "      <th>StreamingTV</th>\n",
       "      <th>StreamingMovies</th>\n",
       "      <th>Contract</th>\n",
       "      <th>PaperlessBilling</th>\n",
       "      <th>PaymentMethod</th>\n",
       "      <th>MonthlyCharges</th>\n",
       "      <th>TotalCharges</th>\n",
       "      <th>Churn</th>\n",
       "    </tr>\n",
       "  </thead>\n",
       "  <tbody>\n",
       "    <tr>\n",
       "      <th>gender</th>\n",
       "      <td>1.000000</td>\n",
       "      <td>-0.001125</td>\n",
       "      <td>-0.001014</td>\n",
       "      <td>0.011081</td>\n",
       "      <td>0.006185</td>\n",
       "      <td>-0.006769</td>\n",
       "      <td>-0.005939</td>\n",
       "      <td>-0.001762</td>\n",
       "      <td>-0.015262</td>\n",
       "      <td>-0.012182</td>\n",
       "      <td>0.000449</td>\n",
       "      <td>-0.007045</td>\n",
       "      <td>-0.006461</td>\n",
       "      <td>-0.008781</td>\n",
       "      <td>0.000811</td>\n",
       "      <td>-0.011350</td>\n",
       "      <td>0.016304</td>\n",
       "      <td>-0.013158</td>\n",
       "      <td>0.000878</td>\n",
       "      <td>-0.008763</td>\n",
       "    </tr>\n",
       "    <tr>\n",
       "      <th>SeniorCitizen</th>\n",
       "      <td>-0.001125</td>\n",
       "      <td>1.000000</td>\n",
       "      <td>0.015553</td>\n",
       "      <td>-0.212115</td>\n",
       "      <td>0.015349</td>\n",
       "      <td>0.008909</td>\n",
       "      <td>0.145521</td>\n",
       "      <td>-0.031221</td>\n",
       "      <td>-0.128267</td>\n",
       "      <td>-0.013675</td>\n",
       "      <td>-0.021448</td>\n",
       "      <td>-0.151349</td>\n",
       "      <td>0.030704</td>\n",
       "      <td>0.047209</td>\n",
       "      <td>-0.143624</td>\n",
       "      <td>0.156196</td>\n",
       "      <td>-0.037320</td>\n",
       "      <td>0.219434</td>\n",
       "      <td>0.101628</td>\n",
       "      <td>0.151619</td>\n",
       "    </tr>\n",
       "    <tr>\n",
       "      <th>Partner</th>\n",
       "      <td>-0.001014</td>\n",
       "      <td>0.015553</td>\n",
       "      <td>1.000000</td>\n",
       "      <td>0.451659</td>\n",
       "      <td>0.377346</td>\n",
       "      <td>0.018728</td>\n",
       "      <td>0.139827</td>\n",
       "      <td>0.003667</td>\n",
       "      <td>0.150589</td>\n",
       "      <td>0.152518</td>\n",
       "      <td>0.165752</td>\n",
       "      <td>0.126422</td>\n",
       "      <td>0.136443</td>\n",
       "      <td>0.128635</td>\n",
       "      <td>0.293042</td>\n",
       "      <td>-0.015776</td>\n",
       "      <td>-0.152069</td>\n",
       "      <td>0.094301</td>\n",
       "      <td>0.316758</td>\n",
       "      <td>-0.149135</td>\n",
       "    </tr>\n",
       "    <tr>\n",
       "      <th>Dependents</th>\n",
       "      <td>0.011081</td>\n",
       "      <td>-0.212115</td>\n",
       "      <td>0.451659</td>\n",
       "      <td>1.000000</td>\n",
       "      <td>0.157603</td>\n",
       "      <td>-0.001092</td>\n",
       "      <td>-0.027083</td>\n",
       "      <td>0.046608</td>\n",
       "      <td>0.151984</td>\n",
       "      <td>0.090502</td>\n",
       "      <td>0.080015</td>\n",
       "      <td>0.133303</td>\n",
       "      <td>0.046140</td>\n",
       "      <td>0.020525</td>\n",
       "      <td>0.241912</td>\n",
       "      <td>-0.112220</td>\n",
       "      <td>-0.038185</td>\n",
       "      <td>-0.116191</td>\n",
       "      <td>0.062640</td>\n",
       "      <td>-0.163459</td>\n",
       "    </tr>\n",
       "    <tr>\n",
       "      <th>tenure</th>\n",
       "      <td>0.006185</td>\n",
       "      <td>0.015349</td>\n",
       "      <td>0.377346</td>\n",
       "      <td>0.157603</td>\n",
       "      <td>1.000000</td>\n",
       "      <td>0.009786</td>\n",
       "      <td>0.340458</td>\n",
       "      <td>-0.026847</td>\n",
       "      <td>0.325762</td>\n",
       "      <td>0.370824</td>\n",
       "      <td>0.371062</td>\n",
       "      <td>0.323197</td>\n",
       "      <td>0.288737</td>\n",
       "      <td>0.296225</td>\n",
       "      <td>0.670728</td>\n",
       "      <td>0.005053</td>\n",
       "      <td>-0.367827</td>\n",
       "      <td>0.245251</td>\n",
       "      <td>0.824164</td>\n",
       "      <td>-0.351508</td>\n",
       "    </tr>\n",
       "    <tr>\n",
       "      <th>PhoneService</th>\n",
       "      <td>-0.006769</td>\n",
       "      <td>0.008909</td>\n",
       "      <td>0.018728</td>\n",
       "      <td>-0.001092</td>\n",
       "      <td>0.009786</td>\n",
       "      <td>1.000000</td>\n",
       "      <td>-0.019554</td>\n",
       "      <td>0.387549</td>\n",
       "      <td>-0.015026</td>\n",
       "      <td>0.024439</td>\n",
       "      <td>0.004043</td>\n",
       "      <td>-0.018980</td>\n",
       "      <td>0.055807</td>\n",
       "      <td>0.044322</td>\n",
       "      <td>0.003101</td>\n",
       "      <td>0.016824</td>\n",
       "      <td>-0.005304</td>\n",
       "      <td>0.248984</td>\n",
       "      <td>0.114064</td>\n",
       "      <td>0.011323</td>\n",
       "    </tr>\n",
       "    <tr>\n",
       "      <th>MultipleLines</th>\n",
       "      <td>-0.005939</td>\n",
       "      <td>0.145521</td>\n",
       "      <td>0.139827</td>\n",
       "      <td>-0.027083</td>\n",
       "      <td>0.340458</td>\n",
       "      <td>-0.019554</td>\n",
       "      <td>1.000000</td>\n",
       "      <td>-0.106819</td>\n",
       "      <td>0.006599</td>\n",
       "      <td>0.116625</td>\n",
       "      <td>0.121633</td>\n",
       "      <td>0.010909</td>\n",
       "      <td>0.174225</td>\n",
       "      <td>0.180113</td>\n",
       "      <td>0.108553</td>\n",
       "      <td>0.164814</td>\n",
       "      <td>-0.174073</td>\n",
       "      <td>0.432246</td>\n",
       "      <td>0.451191</td>\n",
       "      <td>0.040175</td>\n",
       "    </tr>\n",
       "    <tr>\n",
       "      <th>InternetService</th>\n",
       "      <td>-0.001762</td>\n",
       "      <td>-0.031221</td>\n",
       "      <td>0.003667</td>\n",
       "      <td>0.046608</td>\n",
       "      <td>-0.026847</td>\n",
       "      <td>0.387549</td>\n",
       "      <td>-0.106819</td>\n",
       "      <td>1.000000</td>\n",
       "      <td>-0.029421</td>\n",
       "      <td>0.035736</td>\n",
       "      <td>0.044563</td>\n",
       "      <td>-0.027019</td>\n",
       "      <td>0.107508</td>\n",
       "      <td>0.098435</td>\n",
       "      <td>0.102456</td>\n",
       "      <td>-0.137056</td>\n",
       "      <td>0.082669</td>\n",
       "      <td>-0.320525</td>\n",
       "      <td>-0.173281</td>\n",
       "      <td>-0.047366</td>\n",
       "    </tr>\n",
       "    <tr>\n",
       "      <th>OnlineSecurity</th>\n",
       "      <td>-0.015262</td>\n",
       "      <td>-0.128267</td>\n",
       "      <td>0.150589</td>\n",
       "      <td>0.151984</td>\n",
       "      <td>0.325762</td>\n",
       "      <td>-0.015026</td>\n",
       "      <td>0.006599</td>\n",
       "      <td>-0.029421</td>\n",
       "      <td>1.000000</td>\n",
       "      <td>0.184211</td>\n",
       "      <td>0.175061</td>\n",
       "      <td>0.284255</td>\n",
       "      <td>0.043553</td>\n",
       "      <td>0.054847</td>\n",
       "      <td>0.374556</td>\n",
       "      <td>-0.157024</td>\n",
       "      <td>-0.096968</td>\n",
       "      <td>-0.053347</td>\n",
       "      <td>0.254298</td>\n",
       "      <td>-0.288505</td>\n",
       "    </tr>\n",
       "    <tr>\n",
       "      <th>OnlineBackup</th>\n",
       "      <td>-0.012182</td>\n",
       "      <td>-0.013675</td>\n",
       "      <td>0.152518</td>\n",
       "      <td>0.090502</td>\n",
       "      <td>0.370824</td>\n",
       "      <td>0.024439</td>\n",
       "      <td>0.116625</td>\n",
       "      <td>0.035736</td>\n",
       "      <td>0.184211</td>\n",
       "      <td>1.000000</td>\n",
       "      <td>0.186760</td>\n",
       "      <td>0.194841</td>\n",
       "      <td>0.146071</td>\n",
       "      <td>0.135587</td>\n",
       "      <td>0.280658</td>\n",
       "      <td>-0.012565</td>\n",
       "      <td>-0.124724</td>\n",
       "      <td>0.120391</td>\n",
       "      <td>0.375233</td>\n",
       "      <td>-0.194214</td>\n",
       "    </tr>\n",
       "    <tr>\n",
       "      <th>DeviceProtection</th>\n",
       "      <td>0.000449</td>\n",
       "      <td>-0.021448</td>\n",
       "      <td>0.165752</td>\n",
       "      <td>0.080015</td>\n",
       "      <td>0.371062</td>\n",
       "      <td>0.004043</td>\n",
       "      <td>0.121633</td>\n",
       "      <td>0.044563</td>\n",
       "      <td>0.175061</td>\n",
       "      <td>0.186760</td>\n",
       "      <td>1.000000</td>\n",
       "      <td>0.239738</td>\n",
       "      <td>0.275710</td>\n",
       "      <td>0.287869</td>\n",
       "      <td>0.350077</td>\n",
       "      <td>-0.037485</td>\n",
       "      <td>-0.135664</td>\n",
       "      <td>0.164399</td>\n",
       "      <td>0.388770</td>\n",
       "      <td>-0.176770</td>\n",
       "    </tr>\n",
       "    <tr>\n",
       "      <th>TechSupport</th>\n",
       "      <td>-0.007045</td>\n",
       "      <td>-0.151349</td>\n",
       "      <td>0.126422</td>\n",
       "      <td>0.133303</td>\n",
       "      <td>0.323197</td>\n",
       "      <td>-0.018980</td>\n",
       "      <td>0.010909</td>\n",
       "      <td>-0.027019</td>\n",
       "      <td>0.284255</td>\n",
       "      <td>0.194841</td>\n",
       "      <td>0.239738</td>\n",
       "      <td>1.000000</td>\n",
       "      <td>0.160326</td>\n",
       "      <td>0.160334</td>\n",
       "      <td>0.425570</td>\n",
       "      <td>-0.112891</td>\n",
       "      <td>-0.104905</td>\n",
       "      <td>-0.008050</td>\n",
       "      <td>0.276726</td>\n",
       "      <td>-0.281654</td>\n",
       "    </tr>\n",
       "    <tr>\n",
       "      <th>StreamingTV</th>\n",
       "      <td>-0.006461</td>\n",
       "      <td>0.030704</td>\n",
       "      <td>0.136443</td>\n",
       "      <td>0.046140</td>\n",
       "      <td>0.288737</td>\n",
       "      <td>0.055807</td>\n",
       "      <td>0.174225</td>\n",
       "      <td>0.107508</td>\n",
       "      <td>0.043553</td>\n",
       "      <td>0.146071</td>\n",
       "      <td>0.275710</td>\n",
       "      <td>0.160326</td>\n",
       "      <td>1.000000</td>\n",
       "      <td>0.433969</td>\n",
       "      <td>0.226495</td>\n",
       "      <td>0.097631</td>\n",
       "      <td>-0.103764</td>\n",
       "      <td>0.337707</td>\n",
       "      <td>0.391962</td>\n",
       "      <td>-0.034591</td>\n",
       "    </tr>\n",
       "    <tr>\n",
       "      <th>StreamingMovies</th>\n",
       "      <td>-0.008781</td>\n",
       "      <td>0.047209</td>\n",
       "      <td>0.128635</td>\n",
       "      <td>0.020525</td>\n",
       "      <td>0.296225</td>\n",
       "      <td>0.044322</td>\n",
       "      <td>0.180113</td>\n",
       "      <td>0.098435</td>\n",
       "      <td>0.054847</td>\n",
       "      <td>0.135587</td>\n",
       "      <td>0.287869</td>\n",
       "      <td>0.160334</td>\n",
       "      <td>0.433969</td>\n",
       "      <td>1.000000</td>\n",
       "      <td>0.230594</td>\n",
       "      <td>0.084652</td>\n",
       "      <td>-0.110765</td>\n",
       "      <td>0.336435</td>\n",
       "      <td>0.397572</td>\n",
       "      <td>-0.036492</td>\n",
       "    </tr>\n",
       "    <tr>\n",
       "      <th>Contract</th>\n",
       "      <td>0.000811</td>\n",
       "      <td>-0.143624</td>\n",
       "      <td>0.293042</td>\n",
       "      <td>0.241912</td>\n",
       "      <td>0.670728</td>\n",
       "      <td>0.003101</td>\n",
       "      <td>0.108553</td>\n",
       "      <td>0.102456</td>\n",
       "      <td>0.374556</td>\n",
       "      <td>0.280658</td>\n",
       "      <td>0.350077</td>\n",
       "      <td>0.425570</td>\n",
       "      <td>0.226495</td>\n",
       "      <td>0.230594</td>\n",
       "      <td>1.000000</td>\n",
       "      <td>-0.177959</td>\n",
       "      <td>-0.225457</td>\n",
       "      <td>-0.076934</td>\n",
       "      <td>0.448109</td>\n",
       "      <td>-0.396531</td>\n",
       "    </tr>\n",
       "    <tr>\n",
       "      <th>PaperlessBilling</th>\n",
       "      <td>-0.011350</td>\n",
       "      <td>0.156196</td>\n",
       "      <td>-0.015776</td>\n",
       "      <td>-0.112220</td>\n",
       "      <td>0.005053</td>\n",
       "      <td>0.016824</td>\n",
       "      <td>0.164814</td>\n",
       "      <td>-0.137056</td>\n",
       "      <td>-0.157024</td>\n",
       "      <td>-0.012565</td>\n",
       "      <td>-0.037485</td>\n",
       "      <td>-0.112891</td>\n",
       "      <td>0.097631</td>\n",
       "      <td>0.084652</td>\n",
       "      <td>-0.177959</td>\n",
       "      <td>1.000000</td>\n",
       "      <td>-0.061577</td>\n",
       "      <td>0.351125</td>\n",
       "      <td>0.157298</td>\n",
       "      <td>0.190891</td>\n",
       "    </tr>\n",
       "    <tr>\n",
       "      <th>PaymentMethod</th>\n",
       "      <td>0.016304</td>\n",
       "      <td>-0.037320</td>\n",
       "      <td>-0.152069</td>\n",
       "      <td>-0.038185</td>\n",
       "      <td>-0.367827</td>\n",
       "      <td>-0.005304</td>\n",
       "      <td>-0.174073</td>\n",
       "      <td>0.082669</td>\n",
       "      <td>-0.096968</td>\n",
       "      <td>-0.124724</td>\n",
       "      <td>-0.135664</td>\n",
       "      <td>-0.104905</td>\n",
       "      <td>-0.103764</td>\n",
       "      <td>-0.110765</td>\n",
       "      <td>-0.225457</td>\n",
       "      <td>-0.061577</td>\n",
       "      <td>1.000000</td>\n",
       "      <td>-0.190215</td>\n",
       "      <td>-0.327978</td>\n",
       "      <td>0.106238</td>\n",
       "    </tr>\n",
       "    <tr>\n",
       "      <th>MonthlyCharges</th>\n",
       "      <td>-0.013158</td>\n",
       "      <td>0.219434</td>\n",
       "      <td>0.094301</td>\n",
       "      <td>-0.116191</td>\n",
       "      <td>0.245251</td>\n",
       "      <td>0.248984</td>\n",
       "      <td>0.432246</td>\n",
       "      <td>-0.320525</td>\n",
       "      <td>-0.053347</td>\n",
       "      <td>0.120391</td>\n",
       "      <td>0.164399</td>\n",
       "      <td>-0.008050</td>\n",
       "      <td>0.337707</td>\n",
       "      <td>0.336435</td>\n",
       "      <td>-0.076934</td>\n",
       "      <td>0.351125</td>\n",
       "      <td>-0.190215</td>\n",
       "      <td>1.000000</td>\n",
       "      <td>0.649942</td>\n",
       "      <td>0.194508</td>\n",
       "    </tr>\n",
       "    <tr>\n",
       "      <th>TotalCharges</th>\n",
       "      <td>0.000878</td>\n",
       "      <td>0.101628</td>\n",
       "      <td>0.316758</td>\n",
       "      <td>0.062640</td>\n",
       "      <td>0.824164</td>\n",
       "      <td>0.114064</td>\n",
       "      <td>0.451191</td>\n",
       "      <td>-0.173281</td>\n",
       "      <td>0.254298</td>\n",
       "      <td>0.375233</td>\n",
       "      <td>0.388770</td>\n",
       "      <td>0.276726</td>\n",
       "      <td>0.391962</td>\n",
       "      <td>0.397572</td>\n",
       "      <td>0.448109</td>\n",
       "      <td>0.157298</td>\n",
       "      <td>-0.327978</td>\n",
       "      <td>0.649942</td>\n",
       "      <td>1.000000</td>\n",
       "      <td>-0.198303</td>\n",
       "    </tr>\n",
       "    <tr>\n",
       "      <th>Churn</th>\n",
       "      <td>-0.008763</td>\n",
       "      <td>0.151619</td>\n",
       "      <td>-0.149135</td>\n",
       "      <td>-0.163459</td>\n",
       "      <td>-0.351508</td>\n",
       "      <td>0.011323</td>\n",
       "      <td>0.040175</td>\n",
       "      <td>-0.047366</td>\n",
       "      <td>-0.288505</td>\n",
       "      <td>-0.194214</td>\n",
       "      <td>-0.176770</td>\n",
       "      <td>-0.281654</td>\n",
       "      <td>-0.034591</td>\n",
       "      <td>-0.036492</td>\n",
       "      <td>-0.396531</td>\n",
       "      <td>0.190891</td>\n",
       "      <td>0.106238</td>\n",
       "      <td>0.194508</td>\n",
       "      <td>-0.198303</td>\n",
       "      <td>1.000000</td>\n",
       "    </tr>\n",
       "  </tbody>\n",
       "</table>\n",
       "</div>"
      ],
      "text/plain": [
       "                    gender  SeniorCitizen   Partner  Dependents    tenure  \\\n",
       "gender            1.000000      -0.001125 -0.001014    0.011081  0.006185   \n",
       "SeniorCitizen    -0.001125       1.000000  0.015553   -0.212115  0.015349   \n",
       "Partner          -0.001014       0.015553  1.000000    0.451659  0.377346   \n",
       "Dependents        0.011081      -0.212115  0.451659    1.000000  0.157603   \n",
       "tenure            0.006185       0.015349  0.377346    0.157603  1.000000   \n",
       "PhoneService     -0.006769       0.008909  0.018728   -0.001092  0.009786   \n",
       "MultipleLines    -0.005939       0.145521  0.139827   -0.027083  0.340458   \n",
       "InternetService  -0.001762      -0.031221  0.003667    0.046608 -0.026847   \n",
       "OnlineSecurity   -0.015262      -0.128267  0.150589    0.151984  0.325762   \n",
       "OnlineBackup     -0.012182      -0.013675  0.152518    0.090502  0.370824   \n",
       "DeviceProtection  0.000449      -0.021448  0.165752    0.080015  0.371062   \n",
       "TechSupport      -0.007045      -0.151349  0.126422    0.133303  0.323197   \n",
       "StreamingTV      -0.006461       0.030704  0.136443    0.046140  0.288737   \n",
       "StreamingMovies  -0.008781       0.047209  0.128635    0.020525  0.296225   \n",
       "Contract          0.000811      -0.143624  0.293042    0.241912  0.670728   \n",
       "PaperlessBilling -0.011350       0.156196 -0.015776   -0.112220  0.005053   \n",
       "PaymentMethod     0.016304      -0.037320 -0.152069   -0.038185 -0.367827   \n",
       "MonthlyCharges   -0.013158       0.219434  0.094301   -0.116191  0.245251   \n",
       "TotalCharges      0.000878       0.101628  0.316758    0.062640  0.824164   \n",
       "Churn            -0.008763       0.151619 -0.149135   -0.163459 -0.351508   \n",
       "\n",
       "                  PhoneService  MultipleLines  InternetService  \\\n",
       "gender               -0.006769      -0.005939        -0.001762   \n",
       "SeniorCitizen         0.008909       0.145521        -0.031221   \n",
       "Partner               0.018728       0.139827         0.003667   \n",
       "Dependents           -0.001092      -0.027083         0.046608   \n",
       "tenure                0.009786       0.340458        -0.026847   \n",
       "PhoneService          1.000000      -0.019554         0.387549   \n",
       "MultipleLines        -0.019554       1.000000        -0.106819   \n",
       "InternetService       0.387549      -0.106819         1.000000   \n",
       "OnlineSecurity       -0.015026       0.006599        -0.029421   \n",
       "OnlineBackup          0.024439       0.116625         0.035736   \n",
       "DeviceProtection      0.004043       0.121633         0.044563   \n",
       "TechSupport          -0.018980       0.010909        -0.027019   \n",
       "StreamingTV           0.055807       0.174225         0.107508   \n",
       "StreamingMovies       0.044322       0.180113         0.098435   \n",
       "Contract              0.003101       0.108553         0.102456   \n",
       "PaperlessBilling      0.016824       0.164814        -0.137056   \n",
       "PaymentMethod        -0.005304      -0.174073         0.082669   \n",
       "MonthlyCharges        0.248984       0.432246        -0.320525   \n",
       "TotalCharges          0.114064       0.451191        -0.173281   \n",
       "Churn                 0.011323       0.040175        -0.047366   \n",
       "\n",
       "                  OnlineSecurity  OnlineBackup  DeviceProtection  TechSupport  \\\n",
       "gender                 -0.015262     -0.012182          0.000449    -0.007045   \n",
       "SeniorCitizen          -0.128267     -0.013675         -0.021448    -0.151349   \n",
       "Partner                 0.150589      0.152518          0.165752     0.126422   \n",
       "Dependents              0.151984      0.090502          0.080015     0.133303   \n",
       "tenure                  0.325762      0.370824          0.371062     0.323197   \n",
       "PhoneService           -0.015026      0.024439          0.004043    -0.018980   \n",
       "MultipleLines           0.006599      0.116625          0.121633     0.010909   \n",
       "InternetService        -0.029421      0.035736          0.044563    -0.027019   \n",
       "OnlineSecurity          1.000000      0.184211          0.175061     0.284255   \n",
       "OnlineBackup            0.184211      1.000000          0.186760     0.194841   \n",
       "DeviceProtection        0.175061      0.186760          1.000000     0.239738   \n",
       "TechSupport             0.284255      0.194841          0.239738     1.000000   \n",
       "StreamingTV             0.043553      0.146071          0.275710     0.160326   \n",
       "StreamingMovies         0.054847      0.135587          0.287869     0.160334   \n",
       "Contract                0.374556      0.280658          0.350077     0.425570   \n",
       "PaperlessBilling       -0.157024     -0.012565         -0.037485    -0.112891   \n",
       "PaymentMethod          -0.096968     -0.124724         -0.135664    -0.104905   \n",
       "MonthlyCharges         -0.053347      0.120391          0.164399    -0.008050   \n",
       "TotalCharges            0.254298      0.375233          0.388770     0.276726   \n",
       "Churn                  -0.288505     -0.194214         -0.176770    -0.281654   \n",
       "\n",
       "                  StreamingTV  StreamingMovies  Contract  PaperlessBilling  \\\n",
       "gender              -0.006461        -0.008781  0.000811         -0.011350   \n",
       "SeniorCitizen        0.030704         0.047209 -0.143624          0.156196   \n",
       "Partner              0.136443         0.128635  0.293042         -0.015776   \n",
       "Dependents           0.046140         0.020525  0.241912         -0.112220   \n",
       "tenure               0.288737         0.296225  0.670728          0.005053   \n",
       "PhoneService         0.055807         0.044322  0.003101          0.016824   \n",
       "MultipleLines        0.174225         0.180113  0.108553          0.164814   \n",
       "InternetService      0.107508         0.098435  0.102456         -0.137056   \n",
       "OnlineSecurity       0.043553         0.054847  0.374556         -0.157024   \n",
       "OnlineBackup         0.146071         0.135587  0.280658         -0.012565   \n",
       "DeviceProtection     0.275710         0.287869  0.350077         -0.037485   \n",
       "TechSupport          0.160326         0.160334  0.425570         -0.112891   \n",
       "StreamingTV          1.000000         0.433969  0.226495          0.097631   \n",
       "StreamingMovies      0.433969         1.000000  0.230594          0.084652   \n",
       "Contract             0.226495         0.230594  1.000000         -0.177959   \n",
       "PaperlessBilling     0.097631         0.084652 -0.177959          1.000000   \n",
       "PaymentMethod       -0.103764        -0.110765 -0.225457         -0.061577   \n",
       "MonthlyCharges       0.337707         0.336435 -0.076934          0.351125   \n",
       "TotalCharges         0.391962         0.397572  0.448109          0.157298   \n",
       "Churn               -0.034591        -0.036492 -0.396531          0.190891   \n",
       "\n",
       "                  PaymentMethod  MonthlyCharges  TotalCharges     Churn  \n",
       "gender                 0.016304       -0.013158      0.000878 -0.008763  \n",
       "SeniorCitizen         -0.037320        0.219434      0.101628  0.151619  \n",
       "Partner               -0.152069        0.094301      0.316758 -0.149135  \n",
       "Dependents            -0.038185       -0.116191      0.062640 -0.163459  \n",
       "tenure                -0.367827        0.245251      0.824164 -0.351508  \n",
       "PhoneService          -0.005304        0.248984      0.114064  0.011323  \n",
       "MultipleLines         -0.174073        0.432246      0.451191  0.040175  \n",
       "InternetService        0.082669       -0.320525     -0.173281 -0.047366  \n",
       "OnlineSecurity        -0.096968       -0.053347      0.254298 -0.288505  \n",
       "OnlineBackup          -0.124724        0.120391      0.375233 -0.194214  \n",
       "DeviceProtection      -0.135664        0.164399      0.388770 -0.176770  \n",
       "TechSupport           -0.104905       -0.008050      0.276726 -0.281654  \n",
       "StreamingTV           -0.103764        0.337707      0.391962 -0.034591  \n",
       "StreamingMovies       -0.110765        0.336435      0.397572 -0.036492  \n",
       "Contract              -0.225457       -0.076934      0.448109 -0.396531  \n",
       "PaperlessBilling      -0.061577        0.351125      0.157298  0.190891  \n",
       "PaymentMethod          1.000000       -0.190215     -0.327978  0.106238  \n",
       "MonthlyCharges        -0.190215        1.000000      0.649942  0.194508  \n",
       "TotalCharges          -0.327978        0.649942      1.000000 -0.198303  \n",
       "Churn                  0.106238        0.194508     -0.198303  1.000000  "
      ]
     },
     "execution_count": 55,
     "metadata": {},
     "output_type": "execute_result"
    }
   ],
   "source": [
    "df.corr()"
   ]
  },
  {
   "cell_type": "code",
   "execution_count": 70,
   "id": "c1cda732",
   "metadata": {},
   "outputs": [
    {
     "data": {
      "image/png": "[encoded data removed]",
      "text/plain": [
       "<Figure size 2000x1000 with 2 Axes>"
      ]
     },
     "metadata": {},
     "output_type": "display_data"
    }
   ],
   "source": [
    "plt.figure(figsize=(20,10))\n",
    "sns.heatmap(df.corr()*100,annot=True,cmap=\"Oranges\")\n",
    "plt.show()"
   ]
  },
  {
   "cell_type": "code",
   "execution_count": 71,
   "id": "6ec160d2",
   "metadata": {},
   "outputs": [],
   "source": [
    "#Feature Division"
   ]
  },
  {
   "cell_type": "code",
   "execution_count": 73,
   "id": "dcd69e2d",
   "metadata": {},
   "outputs": [],
   "source": [
    "# Input Features\n",
    "X = df.drop(\"Churn\", axis = 1)\n",
    "\n",
    "# Target Features\n",
    "Y = df[\"Churn\"]"
   ]
  },
  {
   "cell_type": "code",
   "execution_count": 74,
   "id": "c792f415",
   "metadata": {},
   "outputs": [],
   "source": [
    "#Model Building"
   ]
  },
  {
   "cell_type": "code",
   "execution_count": 78,
   "id": "18b9cece",
   "metadata": {},
   "outputs": [],
   "source": [
    "x_train, x_test, y_train, y_test = train_test_split(X, Y, test_size = 0.25, random_state = 20)"
   ]
  },
  {
   "cell_type": "code",
   "execution_count": 79,
   "id": "c484d935",
   "metadata": {},
   "outputs": [],
   "source": [
    "model = LogisticRegression()"
   ]
  },
  {
   "cell_type": "code",
   "execution_count": 80,
   "id": "887cbdda",
   "metadata": {},
   "outputs": [
    {
     "name": "stderr",
     "output_type": "stream",
     "text": [
      "/Users/arkadeepsarkar/anaconda3/lib/python3.11/site-packages/sklearn/linear_model/_logistic.py:458: ConvergenceWarning: lbfgs failed to converge (status=1):\n",
      "STOP: TOTAL NO. of ITERATIONS REACHED LIMIT.\n",
      "\n",
      "Increase the number of iterations (max_iter) or scale the data as shown in:\n",
      "    https://scikit-learn.org/stable/modules/preprocessing.html\n",
      "Please also refer to the documentation for alternative solver options:\n",
      "    https://scikit-learn.org/stable/modules/linear_model.html#logistic-regression\n",
      "  n_iter_i = _check_optimize_result(\n"
     ]
    },
    {
     "data": {
      "text/html": [
       "<style>#sk-container-id-1 {color: black;background-color: white;}#sk-container-id-1 pre{padding: 0;}#sk-container-id-1 div.sk-toggleable {background-color: white;}#sk-container-id-1 label.sk-toggleable__label {cursor: pointer;display: block;width: 100%;margin-bottom: 0;padding: 0.3em;box-sizing: border-box;text-align: center;}#sk-container-id-1 label.sk-toggleable__label-arrow:before {content: \"▸\";float: left;margin-right: 0.25em;color: #696969;}#sk-container-id-1 label.sk-toggleable__label-arrow:hover:before {color: black;}#sk-container-id-1 div.sk-estimator:hover label.sk-toggleable__label-arrow:before {color: black;}#sk-container-id-1 div.sk-toggleable__content {max-height: 0;max-width: 0;overflow: hidden;text-align: left;background-color: #f0f8ff;}#sk-container-id-1 div.sk-toggleable__content pre {margin: 0.2em;color: black;border-radius: 0.25em;background-color: #f0f8ff;}#sk-container-id-1 input.sk-toggleable__control:checked~div.sk-toggleable__content {max-height: 200px;max-width: 100%;overflow: auto;}#sk-container-id-1 input.sk-toggleable__control:checked~label.sk-toggleable__label-arrow:before {content: \"▾\";}#sk-container-id-1 div.sk-estimator input.sk-toggleable__control:checked~label.sk-toggleable__label {background-color: #d4ebff;}#sk-container-id-1 div.sk-label input.sk-toggleable__control:checked~label.sk-toggleable__label {background-color: #d4ebff;}#sk-container-id-1 input.sk-hidden--visually {border: 0;clip: rect(1px 1px 1px 1px);clip: rect(1px, 1px, 1px, 1px);height: 1px;margin: -1px;overflow: hidden;padding: 0;position: absolute;width: 1px;}#sk-container-id-1 div.sk-estimator {font-family: monospace;background-color: #f0f8ff;border: 1px dotted black;border-radius: 0.25em;box-sizing: border-box;margin-bottom: 0.5em;}#sk-container-id-1 div.sk-estimator:hover {background-color: #d4ebff;}#sk-container-id-1 div.sk-parallel-item::after {content: \"\";width: 100%;border-bottom: 1px solid gray;flex-grow: 1;}#sk-container-id-1 div.sk-label:hover label.sk-toggleable__label {background-color: #d4ebff;}#sk-container-id-1 div.sk-serial::before {content: \"\";position: absolute;border-left: 1px solid gray;box-sizing: border-box;top: 0;bottom: 0;left: 50%;z-index: 0;}#sk-container-id-1 div.sk-serial {display: flex;flex-direction: column;align-items: center;background-color: white;padding-right: 0.2em;padding-left: 0.2em;position: relative;}#sk-container-id-1 div.sk-item {position: relative;z-index: 1;}#sk-container-id-1 div.sk-parallel {display: flex;align-items: stretch;justify-content: center;background-color: white;position: relative;}#sk-container-id-1 div.sk-item::before, #sk-container-id-1 div.sk-parallel-item::before {content: \"\";position: absolute;border-left: 1px solid gray;box-sizing: border-box;top: 0;bottom: 0;left: 50%;z-index: -1;}#sk-container-id-1 div.sk-parallel-item {display: flex;flex-direction: column;z-index: 1;position: relative;background-color: white;}#sk-container-id-1 div.sk-parallel-item:first-child::after {align-self: flex-end;width: 50%;}#sk-container-id-1 div.sk-parallel-item:last-child::after {align-self: flex-start;width: 50%;}#sk-container-id-1 div.sk-parallel-item:only-child::after {width: 0;}#sk-container-id-1 div.sk-dashed-wrapped {border: 1px dashed gray;margin: 0 0.4em 0.5em 0.4em;box-sizing: border-box;padding-bottom: 0.4em;background-color: white;}#sk-container-id-1 div.sk-label label {font-family: monospace;font-weight: bold;display: inline-block;line-height: 1.2em;}#sk-container-id-1 div.sk-label-container {text-align: center;}#sk-container-id-1 div.sk-container {/* jupyter's `normalize.less` sets `[hidden] { display: none; }` but bootstrap.min.css set `[hidden] { display: none !important; }` so we also need the `!important` here to be able to override the default hidden behavior on the sphinx rendered scikit-learn.org. See: https://github.com/scikit-learn/scikit-learn/issues/21755 */display: inline-block !important;position: relative;}#sk-container-id-1 div.sk-text-repr-fallback {display: none;}</style><div id=\"sk-container-id-1\" class=\"sk-top-container\"><div class=\"sk-text-repr-fallback\"><pre>LogisticRegression()</pre><b>In a Jupyter environment, please rerun this cell to show the HTML representation or trust the notebook. <br />On GitHub, the HTML representation is unable to render, please try loading this page with nbviewer.org.</b></div><div class=\"sk-container\" hidden><div class=\"sk-item\"><div class=\"sk-estimator sk-toggleable\"><input class=\"sk-toggleable__control sk-hidden--visually\" id=\"sk-estimator-id-1\" type=\"checkbox\" checked><label for=\"sk-estimator-id-1\" class=\"sk-toggleable__label sk-toggleable__label-arrow\">LogisticRegression</label><div class=\"sk-toggleable__content\"><pre>LogisticRegression()</pre></div></div></div></div></div>"
      ],
      "text/plain": [
       "LogisticRegression()"
      ]
     },
     "execution_count": 80,
     "metadata": {},
     "output_type": "execute_result"
    }
   ],
   "source": [
    "model.fit(x_train, y_train)"
   ]
  },
  {
   "cell_type": "code",
   "execution_count": 81,
   "id": "887b3388",
   "metadata": {},
   "outputs": [],
   "source": [
    "pred = model.predict(x_test)"
   ]
  },
  {
   "cell_type": "code",
   "execution_count": 82,
   "id": "76db0bd3",
   "metadata": {},
   "outputs": [],
   "source": [
    "def helper_function(model, y_test, pred):\n",
    "  print(f\"Accuracy: {accuracy_score(y_test, pred)}\")\n",
    "  print(\"=============================================\")\n",
    "  print(classification_report(y_test, pred))"
   ]
  },
  {
   "cell_type": "code",
   "execution_count": 83,
   "id": "7ebdbca0",
   "metadata": {},
   "outputs": [
    {
     "name": "stdout",
     "output_type": "stream",
     "text": [
      "Logistic Regression\n",
      "Accuracy: 0.8137813211845103\n",
      "=============================================\n",
      "              precision    recall  f1-score   support\n",
      "\n",
      "           0       0.85      0.90      0.88      1280\n",
      "           1       0.68      0.59      0.63       476\n",
      "\n",
      "    accuracy                           0.81      1756\n",
      "   macro avg       0.77      0.74      0.75      1756\n",
      "weighted avg       0.81      0.81      0.81      1756\n",
      "\n"
     ]
    }
   ],
   "source": [
    "print(\"Logistic Regression\")\n",
    "helper_function(model, y_test, pred)"
   ]
  },
  {
   "cell_type": "code",
   "execution_count": 87,
   "id": "9c529fb4",
   "metadata": {},
   "outputs": [],
   "source": [
    "model_DT = DecisionTreeClassifier()"
   ]
  },
  {
   "cell_type": "code",
   "execution_count": 88,
   "id": "020782f4",
   "metadata": {},
   "outputs": [
    {
     "data": {
      "text/html": [
       "<style>#sk-container-id-2 {color: black;background-color: white;}#sk-container-id-2 pre{padding: 0;}#sk-container-id-2 div.sk-toggleable {background-color: white;}#sk-container-id-2 label.sk-toggleable__label {cursor: pointer;display: block;width: 100%;margin-bottom: 0;padding: 0.3em;box-sizing: border-box;text-align: center;}#sk-container-id-2 label.sk-toggleable__label-arrow:before {content: \"▸\";float: left;margin-right: 0.25em;color: #696969;}#sk-container-id-2 label.sk-toggleable__label-arrow:hover:before {color: black;}#sk-container-id-2 div.sk-estimator:hover label.sk-toggleable__label-arrow:before {color: black;}#sk-container-id-2 div.sk-toggleable__content {max-height: 0;max-width: 0;overflow: hidden;text-align: left;background-color: #f0f8ff;}#sk-container-id-2 div.sk-toggleable__content pre {margin: 0.2em;color: black;border-radius: 0.25em;background-color: #f0f8ff;}#sk-container-id-2 input.sk-toggleable__control:checked~div.sk-toggleable__content {max-height: 200px;max-width: 100%;overflow: auto;}#sk-container-id-2 input.sk-toggleable__control:checked~label.sk-toggleable__label-arrow:before {content: \"▾\";}#sk-container-id-2 div.sk-estimator input.sk-toggleable__control:checked~label.sk-toggleable__label {background-color: #d4ebff;}#sk-container-id-2 div.sk-label input.sk-toggleable__control:checked~label.sk-toggleable__label {background-color: #d4ebff;}#sk-container-id-2 input.sk-hidden--visually {border: 0;clip: rect(1px 1px 1px 1px);clip: rect(1px, 1px, 1px, 1px);height: 1px;margin: -1px;overflow: hidden;padding: 0;position: absolute;width: 1px;}#sk-container-id-2 div.sk-estimator {font-family: monospace;background-color: #f0f8ff;border: 1px dotted black;border-radius: 0.25em;box-sizing: border-box;margin-bottom: 0.5em;}#sk-container-id-2 div.sk-estimator:hover {background-color: #d4ebff;}#sk-container-id-2 div.sk-parallel-item::after {content: \"\";width: 100%;border-bottom: 1px solid gray;flex-grow: 1;}#sk-container-id-2 div.sk-label:hover label.sk-toggleable__label {background-color: #d4ebff;}#sk-container-id-2 div.sk-serial::before {content: \"\";position: absolute;border-left: 1px solid gray;box-sizing: border-box;top: 0;bottom: 0;left: 50%;z-index: 0;}#sk-container-id-2 div.sk-serial {display: flex;flex-direction: column;align-items: center;background-color: white;padding-right: 0.2em;padding-left: 0.2em;position: relative;}#sk-container-id-2 div.sk-item {position: relative;z-index: 1;}#sk-container-id-2 div.sk-parallel {display: flex;align-items: stretch;justify-content: center;background-color: white;position: relative;}#sk-container-id-2 div.sk-item::before, #sk-container-id-2 div.sk-parallel-item::before {content: \"\";position: absolute;border-left: 1px solid gray;box-sizing: border-box;top: 0;bottom: 0;left: 50%;z-index: -1;}#sk-container-id-2 div.sk-parallel-item {display: flex;flex-direction: column;z-index: 1;position: relative;background-color: white;}#sk-container-id-2 div.sk-parallel-item:first-child::after {align-self: flex-end;width: 50%;}#sk-container-id-2 div.sk-parallel-item:last-child::after {align-self: flex-start;width: 50%;}#sk-container-id-2 div.sk-parallel-item:only-child::after {width: 0;}#sk-container-id-2 div.sk-dashed-wrapped {border: 1px dashed gray;margin: 0 0.4em 0.5em 0.4em;box-sizing: border-box;padding-bottom: 0.4em;background-color: white;}#sk-container-id-2 div.sk-label label {font-family: monospace;font-weight: bold;display: inline-block;line-height: 1.2em;}#sk-container-id-2 div.sk-label-container {text-align: center;}#sk-container-id-2 div.sk-container {/* jupyter's `normalize.less` sets `[hidden] { display: none; }` but bootstrap.min.css set `[hidden] { display: none !important; }` so we also need the `!important` here to be able to override the default hidden behavior on the sphinx rendered scikit-learn.org. See: https://github.com/scikit-learn/scikit-learn/issues/21755 */display: inline-block !important;position: relative;}#sk-container-id-2 div.sk-text-repr-fallback {display: none;}</style><div id=\"sk-container-id-2\" class=\"sk-top-container\"><div class=\"sk-text-repr-fallback\"><pre>DecisionTreeClassifier()</pre><b>In a Jupyter environment, please rerun this cell to show the HTML representation or trust the notebook. <br />On GitHub, the HTML representation is unable to render, please try loading this page with nbviewer.org.</b></div><div class=\"sk-container\" hidden><div class=\"sk-item\"><div class=\"sk-estimator sk-toggleable\"><input class=\"sk-toggleable__control sk-hidden--visually\" id=\"sk-estimator-id-2\" type=\"checkbox\" checked><label for=\"sk-estimator-id-2\" class=\"sk-toggleable__label sk-toggleable__label-arrow\">DecisionTreeClassifier</label><div class=\"sk-toggleable__content\"><pre>DecisionTreeClassifier()</pre></div></div></div></div></div>"
      ],
      "text/plain": [
       "DecisionTreeClassifier()"
      ]
     },
     "execution_count": 88,
     "metadata": {},
     "output_type": "execute_result"
    }
   ],
   "source": [
    "model_DT.fit(x_train, y_train)"
   ]
  },
  {
   "cell_type": "code",
   "execution_count": 89,
   "id": "529556dc",
   "metadata": {},
   "outputs": [],
   "source": [
    "pred = model_DT.predict(x_test)"
   ]
  },
  {
   "cell_type": "code",
   "execution_count": 90,
   "id": "396766dd",
   "metadata": {},
   "outputs": [
    {
     "name": "stdout",
     "output_type": "stream",
     "text": [
      "Decision Tree Classifier\n",
      "Accuracy: 0.7181093394077449\n",
      "=============================================\n",
      "              precision    recall  f1-score   support\n",
      "\n",
      "           0       0.80      0.81      0.81      1280\n",
      "           1       0.48      0.46      0.47       476\n",
      "\n",
      "    accuracy                           0.72      1756\n",
      "   macro avg       0.64      0.64      0.64      1756\n",
      "weighted avg       0.71      0.72      0.72      1756\n",
      "\n"
     ]
    }
   ],
   "source": [
    "print(\"Decision Tree Classifier\")\n",
    "helper_function(model_DT, y_test, pred)"
   ]
  },
  {
   "cell_type": "code",
   "execution_count": 91,
   "id": "64520015",
   "metadata": {},
   "outputs": [],
   "source": [
    "model_RF = RandomForestClassifier()"
   ]
  },
  {
   "cell_type": "code",
   "execution_count": 92,
   "id": "f5d51d25",
   "metadata": {},
   "outputs": [
    {
     "data": {
      "text/html": [
       "<style>#sk-container-id-3 {color: black;background-color: white;}#sk-container-id-3 pre{padding: 0;}#sk-container-id-3 div.sk-toggleable {background-color: white;}#sk-container-id-3 label.sk-toggleable__label {cursor: pointer;display: block;width: 100%;margin-bottom: 0;padding: 0.3em;box-sizing: border-box;text-align: center;}#sk-container-id-3 label.sk-toggleable__label-arrow:before {content: \"▸\";float: left;margin-right: 0.25em;color: #696969;}#sk-container-id-3 label.sk-toggleable__label-arrow:hover:before {color: black;}#sk-container-id-3 div.sk-estimator:hover label.sk-toggleable__label-arrow:before {color: black;}#sk-container-id-3 div.sk-toggleable__content {max-height: 0;max-width: 0;overflow: hidden;text-align: left;background-color: #f0f8ff;}#sk-container-id-3 div.sk-toggleable__content pre {margin: 0.2em;color: black;border-radius: 0.25em;background-color: #f0f8ff;}#sk-container-id-3 input.sk-toggleable__control:checked~div.sk-toggleable__content {max-height: 200px;max-width: 100%;overflow: auto;}#sk-container-id-3 input.sk-toggleable__control:checked~label.sk-toggleable__label-arrow:before {content: \"▾\";}#sk-container-id-3 div.sk-estimator input.sk-toggleable__control:checked~label.sk-toggleable__label {background-color: #d4ebff;}#sk-container-id-3 div.sk-label input.sk-toggleable__control:checked~label.sk-toggleable__label {background-color: #d4ebff;}#sk-container-id-3 input.sk-hidden--visually {border: 0;clip: rect(1px 1px 1px 1px);clip: rect(1px, 1px, 1px, 1px);height: 1px;margin: -1px;overflow: hidden;padding: 0;position: absolute;width: 1px;}#sk-container-id-3 div.sk-estimator {font-family: monospace;background-color: #f0f8ff;border: 1px dotted black;border-radius: 0.25em;box-sizing: border-box;margin-bottom: 0.5em;}#sk-container-id-3 div.sk-estimator:hover {background-color: #d4ebff;}#sk-container-id-3 div.sk-parallel-item::after {content: \"\";width: 100%;border-bottom: 1px solid gray;flex-grow: 1;}#sk-container-id-3 div.sk-label:hover label.sk-toggleable__label {background-color: #d4ebff;}#sk-container-id-3 div.sk-serial::before {content: \"\";position: absolute;border-left: 1px solid gray;box-sizing: border-box;top: 0;bottom: 0;left: 50%;z-index: 0;}#sk-container-id-3 div.sk-serial {display: flex;flex-direction: column;align-items: center;background-color: white;padding-right: 0.2em;padding-left: 0.2em;position: relative;}#sk-container-id-3 div.sk-item {position: relative;z-index: 1;}#sk-container-id-3 div.sk-parallel {display: flex;align-items: stretch;justify-content: center;background-color: white;position: relative;}#sk-container-id-3 div.sk-item::before, #sk-container-id-3 div.sk-parallel-item::before {content: \"\";position: absolute;border-left: 1px solid gray;box-sizing: border-box;top: 0;bottom: 0;left: 50%;z-index: -1;}#sk-container-id-3 div.sk-parallel-item {display: flex;flex-direction: column;z-index: 1;position: relative;background-color: white;}#sk-container-id-3 div.sk-parallel-item:first-child::after {align-self: flex-end;width: 50%;}#sk-container-id-3 div.sk-parallel-item:last-child::after {align-self: flex-start;width: 50%;}#sk-container-id-3 div.sk-parallel-item:only-child::after {width: 0;}#sk-container-id-3 div.sk-dashed-wrapped {border: 1px dashed gray;margin: 0 0.4em 0.5em 0.4em;box-sizing: border-box;padding-bottom: 0.4em;background-color: white;}#sk-container-id-3 div.sk-label label {font-family: monospace;font-weight: bold;display: inline-block;line-height: 1.2em;}#sk-container-id-3 div.sk-label-container {text-align: center;}#sk-container-id-3 div.sk-container {/* jupyter's `normalize.less` sets `[hidden] { display: none; }` but bootstrap.min.css set `[hidden] { display: none !important; }` so we also need the `!important` here to be able to override the default hidden behavior on the sphinx rendered scikit-learn.org. See: https://github.com/scikit-learn/scikit-learn/issues/21755 */display: inline-block !important;position: relative;}#sk-container-id-3 div.sk-text-repr-fallback {display: none;}</style><div id=\"sk-container-id-3\" class=\"sk-top-container\"><div class=\"sk-text-repr-fallback\"><pre>RandomForestClassifier()</pre><b>In a Jupyter environment, please rerun this cell to show the HTML representation or trust the notebook. <br />On GitHub, the HTML representation is unable to render, please try loading this page with nbviewer.org.</b></div><div class=\"sk-container\" hidden><div class=\"sk-item\"><div class=\"sk-estimator sk-toggleable\"><input class=\"sk-toggleable__control sk-hidden--visually\" id=\"sk-estimator-id-3\" type=\"checkbox\" checked><label for=\"sk-estimator-id-3\" class=\"sk-toggleable__label sk-toggleable__label-arrow\">RandomForestClassifier</label><div class=\"sk-toggleable__content\"><pre>RandomForestClassifier()</pre></div></div></div></div></div>"
      ],
      "text/plain": [
       "RandomForestClassifier()"
      ]
     },
     "execution_count": 92,
     "metadata": {},
     "output_type": "execute_result"
    }
   ],
   "source": [
    "model_RF.fit(x_train, y_train)"
   ]
  },
  {
   "cell_type": "code",
   "execution_count": 93,
   "id": "7f5150f2",
   "metadata": {},
   "outputs": [],
   "source": [
    "pred = model_RF.predict(x_test)"
   ]
  },
  {
   "cell_type": "code",
   "execution_count": 94,
   "id": "c30c4ff5",
   "metadata": {},
   "outputs": [
    {
     "name": "stdout",
     "output_type": "stream",
     "text": [
      "Random Forest Classifier\n",
      "Accuracy: 0.7870159453302962\n",
      "=============================================\n",
      "              precision    recall  f1-score   support\n",
      "\n",
      "           0       0.83      0.90      0.86      1280\n",
      "           1       0.64      0.49      0.55       476\n",
      "\n",
      "    accuracy                           0.79      1756\n",
      "   macro avg       0.73      0.69      0.71      1756\n",
      "weighted avg       0.78      0.79      0.78      1756\n",
      "\n"
     ]
    }
   ],
   "source": [
    "print(\"Random Forest Classifier\")\n",
    "helper_function(model_RF, y_test, pred)"
   ]
  },
  {
   "cell_type": "code",
   "execution_count": 95,
   "id": "dea231f5",
   "metadata": {},
   "outputs": [],
   "source": [
    "RF = 0.79\n",
    "\n",
    "DT = 0.71\n",
    "\n",
    "LR = 0.81"
   ]
  },
  {
   "cell_type": "code",
   "execution_count": 96,
   "id": "1461ad03",
   "metadata": {},
   "outputs": [],
   "source": [
    "from sklearn.svm import SVC"
   ]
  },
  {
   "cell_type": "code",
   "execution_count": 97,
   "id": "e9e3ffa4",
   "metadata": {},
   "outputs": [],
   "source": [
    "model_SVM = SVC()"
   ]
  },
  {
   "cell_type": "code",
   "execution_count": 98,
   "id": "55b98833",
   "metadata": {},
   "outputs": [
    {
     "data": {
      "text/html": [
       "<style>#sk-container-id-4 {color: black;background-color: white;}#sk-container-id-4 pre{padding: 0;}#sk-container-id-4 div.sk-toggleable {background-color: white;}#sk-container-id-4 label.sk-toggleable__label {cursor: pointer;display: block;width: 100%;margin-bottom: 0;padding: 0.3em;box-sizing: border-box;text-align: center;}#sk-container-id-4 label.sk-toggleable__label-arrow:before {content: \"▸\";float: left;margin-right: 0.25em;color: #696969;}#sk-container-id-4 label.sk-toggleable__label-arrow:hover:before {color: black;}#sk-container-id-4 div.sk-estimator:hover label.sk-toggleable__label-arrow:before {color: black;}#sk-container-id-4 div.sk-toggleable__content {max-height: 0;max-width: 0;overflow: hidden;text-align: left;background-color: #f0f8ff;}#sk-container-id-4 div.sk-toggleable__content pre {margin: 0.2em;color: black;border-radius: 0.25em;background-color: #f0f8ff;}#sk-container-id-4 input.sk-toggleable__control:checked~div.sk-toggleable__content {max-height: 200px;max-width: 100%;overflow: auto;}#sk-container-id-4 input.sk-toggleable__control:checked~label.sk-toggleable__label-arrow:before {content: \"▾\";}#sk-container-id-4 div.sk-estimator input.sk-toggleable__control:checked~label.sk-toggleable__label {background-color: #d4ebff;}#sk-container-id-4 div.sk-label input.sk-toggleable__control:checked~label.sk-toggleable__label {background-color: #d4ebff;}#sk-container-id-4 input.sk-hidden--visually {border: 0;clip: rect(1px 1px 1px 1px);clip: rect(1px, 1px, 1px, 1px);height: 1px;margin: -1px;overflow: hidden;padding: 0;position: absolute;width: 1px;}#sk-container-id-4 div.sk-estimator {font-family: monospace;background-color: #f0f8ff;border: 1px dotted black;border-radius: 0.25em;box-sizing: border-box;margin-bottom: 0.5em;}#sk-container-id-4 div.sk-estimator:hover {background-color: #d4ebff;}#sk-container-id-4 div.sk-parallel-item::after {content: \"\";width: 100%;border-bottom: 1px solid gray;flex-grow: 1;}#sk-container-id-4 div.sk-label:hover label.sk-toggleable__label {background-color: #d4ebff;}#sk-container-id-4 div.sk-serial::before {content: \"\";position: absolute;border-left: 1px solid gray;box-sizing: border-box;top: 0;bottom: 0;left: 50%;z-index: 0;}#sk-container-id-4 div.sk-serial {display: flex;flex-direction: column;align-items: center;background-color: white;padding-right: 0.2em;padding-left: 0.2em;position: relative;}#sk-container-id-4 div.sk-item {position: relative;z-index: 1;}#sk-container-id-4 div.sk-parallel {display: flex;align-items: stretch;justify-content: center;background-color: white;position: relative;}#sk-container-id-4 div.sk-item::before, #sk-container-id-4 div.sk-parallel-item::before {content: \"\";position: absolute;border-left: 1px solid gray;box-sizing: border-box;top: 0;bottom: 0;left: 50%;z-index: -1;}#sk-container-id-4 div.sk-parallel-item {display: flex;flex-direction: column;z-index: 1;position: relative;background-color: white;}#sk-container-id-4 div.sk-parallel-item:first-child::after {align-self: flex-end;width: 50%;}#sk-container-id-4 div.sk-parallel-item:last-child::after {align-self: flex-start;width: 50%;}#sk-container-id-4 div.sk-parallel-item:only-child::after {width: 0;}#sk-container-id-4 div.sk-dashed-wrapped {border: 1px dashed gray;margin: 0 0.4em 0.5em 0.4em;box-sizing: border-box;padding-bottom: 0.4em;background-color: white;}#sk-container-id-4 div.sk-label label {font-family: monospace;font-weight: bold;display: inline-block;line-height: 1.2em;}#sk-container-id-4 div.sk-label-container {text-align: center;}#sk-container-id-4 div.sk-container {/* jupyter's `normalize.less` sets `[hidden] { display: none; }` but bootstrap.min.css set `[hidden] { display: none !important; }` so we also need the `!important` here to be able to override the default hidden behavior on the sphinx rendered scikit-learn.org. See: https://github.com/scikit-learn/scikit-learn/issues/21755 */display: inline-block !important;position: relative;}#sk-container-id-4 div.sk-text-repr-fallback {display: none;}</style><div id=\"sk-container-id-4\" class=\"sk-top-container\"><div class=\"sk-text-repr-fallback\"><pre>SVC()</pre><b>In a Jupyter environment, please rerun this cell to show the HTML representation or trust the notebook. <br />On GitHub, the HTML representation is unable to render, please try loading this page with nbviewer.org.</b></div><div class=\"sk-container\" hidden><div class=\"sk-item\"><div class=\"sk-estimator sk-toggleable\"><input class=\"sk-toggleable__control sk-hidden--visually\" id=\"sk-estimator-id-4\" type=\"checkbox\" checked><label for=\"sk-estimator-id-4\" class=\"sk-toggleable__label sk-toggleable__label-arrow\">SVC</label><div class=\"sk-toggleable__content\"><pre>SVC()</pre></div></div></div></div></div>"
      ],
      "text/plain": [
       "SVC()"
      ]
     },
     "execution_count": 98,
     "metadata": {},
     "output_type": "execute_result"
    }
   ],
   "source": [
    "model_SVM.fit(x_train, y_train)"
   ]
  },
  {
   "cell_type": "code",
   "execution_count": 99,
   "id": "242403cc",
   "metadata": {},
   "outputs": [],
   "source": [
    "pred = model_SVM.predict(x_test)"
   ]
  },
  {
   "cell_type": "code",
   "execution_count": 100,
   "id": "6bf72a75",
   "metadata": {},
   "outputs": [
    {
     "name": "stdout",
     "output_type": "stream",
     "text": [
      "Support Vector Classifier\n",
      "Accuracy: 0.7289293849658315\n",
      "=============================================\n",
      "              precision    recall  f1-score   support\n",
      "\n",
      "           0       0.73      1.00      0.84      1280\n",
      "           1       0.00      0.00      0.00       476\n",
      "\n",
      "    accuracy                           0.73      1756\n",
      "   macro avg       0.36      0.50      0.42      1756\n",
      "weighted avg       0.53      0.73      0.61      1756\n",
      "\n"
     ]
    },
    {
     "name": "stderr",
     "output_type": "stream",
     "text": [
      "/Users/arkadeepsarkar/anaconda3/lib/python3.11/site-packages/sklearn/metrics/_classification.py:1344: UndefinedMetricWarning: Precision and F-score are ill-defined and being set to 0.0 in labels with no predicted samples. Use `zero_division` parameter to control this behavior.\n",
      "  _warn_prf(average, modifier, msg_start, len(result))\n",
      "/Users/arkadeepsarkar/anaconda3/lib/python3.11/site-packages/sklearn/metrics/_classification.py:1344: UndefinedMetricWarning: Precision and F-score are ill-defined and being set to 0.0 in labels with no predicted samples. Use `zero_division` parameter to control this behavior.\n",
      "  _warn_prf(average, modifier, msg_start, len(result))\n",
      "/Users/arkadeepsarkar/anaconda3/lib/python3.11/site-packages/sklearn/metrics/_classification.py:1344: UndefinedMetricWarning: Precision and F-score are ill-defined and being set to 0.0 in labels with no predicted samples. Use `zero_division` parameter to control this behavior.\n",
      "  _warn_prf(average, modifier, msg_start, len(result))\n"
     ]
    }
   ],
   "source": [
    "print(\"Support Vector Classifier\")\n",
    "helper_function(model_SVM, y_test, pred)"
   ]
  },
  {
   "cell_type": "code",
   "execution_count": 101,
   "id": "6f301aa2",
   "metadata": {},
   "outputs": [],
   "source": [
    "def function(model, prediction, actual_values):\n",
    "  print(f\"{accuracy_score(actual_values, prediction)}\")"
   ]
  },
  {
   "cell_type": "code",
   "execution_count": 102,
   "id": "be3bd472",
   "metadata": {},
   "outputs": [
    {
     "name": "stdout",
     "output_type": "stream",
     "text": [
      "0.7289293849658315\n"
     ]
    }
   ],
   "source": [
    "function(model_SVM, pred, y_test)"
   ]
  },
  {
   "cell_type": "code",
   "execution_count": null,
   "id": "41c6488c",
   "metadata": {},
   "outputs": [],
   "source": []
  }
 ],
 "metadata": {
  "kernelspec": {
   "display_name": "Python 3 (ipykernel)",
   "language": "python",
   "name": "python3"
  },
  "language_info": {
   "codemirror_mode": {
    "name": "ipython",
    "version": 3
   },
   "file_extension": ".py",
   "mimetype": "text/x-python",
   "name": "python",
   "nbconvert_exporter": "python",
   "pygments_lexer": "ipython3",
   "version": "3.11.4"
  }
 },
 "nbformat": 4,
 "nbformat_minor": 5
}
