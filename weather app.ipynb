{
 "cells": [
  {
   "cell_type": "code",
   "execution_count": 1,
   "id": "3b4b6fc0",
   "metadata": {},
   "outputs": [
    {
     "name": "stdout",
     "output_type": "stream",
     "text": [
      "Collecting geopy\n",
      "  Obtaining dependency information for geopy from https://files.pythonhosted.org/packages/e5/15/cf2a69ade4b194aa524ac75112d5caac37414b20a3a03e6865dfe0bd1539/geopy-2.4.1-py3-none-any.whl.metadata\n",
      "  Downloading geopy-2.4.1-py3-none-any.whl.metadata (6.8 kB)\n",
      "Collecting geographiclib<3,>=1.52 (from geopy)\n",
      "  Obtaining dependency information for geographiclib<3,>=1.52 from https://files.pythonhosted.org/packages/9f/5a/a26132406f1f40cf51ea349a5f11b0a46cec02a2031ff82e391c2537247a/geographiclib-2.0-py3-none-any.whl.metadata\n",
      "  Downloading geographiclib-2.0-py3-none-any.whl.metadata (1.4 kB)\n",
      "Downloading geopy-2.4.1-py3-none-any.whl (125 kB)\n",
      "\u001b[2K   \u001b[90m━━━━━━━━━━━━━━━━━━━━━━━━━━━━━━━━━━━━━━━\u001b[0m \u001b[32m125.4/125.4 kB\u001b[0m \u001b[31m789.2 kB/s\u001b[0m eta \u001b[36m0:00:00\u001b[0ma \u001b[36m0:00:01\u001b[0m\n",
      "\u001b[?25hDownloading geographiclib-2.0-py3-none-any.whl (40 kB)\n",
      "\u001b[2K   \u001b[90m━━━━━━━━━━━━━━━━━━━━━━━━━━━━━━━━━━━━━━━━\u001b[0m \u001b[32m40.3/40.3 kB\u001b[0m \u001b[31m4.0 MB/s\u001b[0m eta \u001b[36m0:00:00\u001b[0m\n",
      "\u001b[?25hInstalling collected packages: geographiclib, geopy\n",
      "Successfully installed geographiclib-2.0 geopy-2.4.1\n"
     ]
    }
   ],
   "source": [
    "!pip install geopy"
   ]
  },
  {
   "cell_type": "code",
   "execution_count": 2,
   "id": "2a557a9e",
   "metadata": {},
   "outputs": [
    {
     "name": "stdout",
     "output_type": "stream",
     "text": [
      "Collecting timezonefinder\n",
      "  Downloading timezonefinder-6.5.7.tar.gz (50.7 MB)\n",
      "\u001b[2K     \u001b[90m━━━━━━━━━━━━━━━━━━━━━━━━━━━━━━━━━━━━━━━━\u001b[0m \u001b[32m50.7/50.7 MB\u001b[0m \u001b[31m13.2 MB/s\u001b[0m eta \u001b[36m0:00:00\u001b[0m00:01\u001b[0m00:01\u001b[0m\n",
      "\u001b[?25h  Installing build dependencies ... \u001b[?25ldone\n",
      "\u001b[?25h  Getting requirements to build wheel ... \u001b[?25ldone\n",
      "\u001b[?25h  Preparing metadata (pyproject.toml) ... \u001b[?25ldone\n",
      "\u001b[?25hRequirement already satisfied: cffi<2,>=1.15.1 in /Users/arkadeepsarkar/anaconda3/lib/python3.11/site-packages (from timezonefinder) (1.15.1)\n",
      "Collecting h3>4 (from timezonefinder)\n",
      "  Obtaining dependency information for h3>4 from https://files.pythonhosted.org/packages/05/3f/4938dd97fbb90a4dc0bd5de36f9631d42153dd8cf9519fdae5090297c7bf/h3-4.1.2-cp311-cp311-macosx_11_0_arm64.whl.metadata\n",
      "  Downloading h3-4.1.2-cp311-cp311-macosx_11_0_arm64.whl.metadata (18 kB)\n",
      "Requirement already satisfied: numpy<3,>=1.23 in /Users/arkadeepsarkar/anaconda3/lib/python3.11/site-packages (from timezonefinder) (1.24.3)\n",
      "Requirement already satisfied: pycparser in /Users/arkadeepsarkar/anaconda3/lib/python3.11/site-packages (from cffi<2,>=1.15.1->timezonefinder) (2.21)\n",
      "Downloading h3-4.1.2-cp311-cp311-macosx_11_0_arm64.whl (797 kB)\n",
      "\u001b[2K   \u001b[90m━━━━━━━━━━━━━━━━━━━━━━━━━━━━━━━━━━━━━━━━\u001b[0m \u001b[32m797.6/797.6 kB\u001b[0m \u001b[31m11.2 MB/s\u001b[0m eta \u001b[36m0:00:00\u001b[0ma \u001b[36m0:00:01\u001b[0m\n",
      "\u001b[?25hBuilding wheels for collected packages: timezonefinder\n",
      "  Building wheel for timezonefinder (pyproject.toml) ... \u001b[?25ldone\n",
      "\u001b[?25h  Created wheel for timezonefinder: filename=timezonefinder-6.5.7-cp311-cp311-macosx_15_0_arm64.whl size=50697839 sha256=1bce26938fe941340479f7230d965431965feeb72de1ea8608a5924784e907ff\n",
      "  Stored in directory: /Users/arkadeepsarkar/Library/Caches/pip/wheels/f7/2e/60/ea030a1da1c2ecf9d744aa348902c2bd12dcf1b00dbc7d5304\n",
      "Successfully built timezonefinder\n",
      "Installing collected packages: h3, timezonefinder\n",
      "Successfully installed h3-4.1.2 timezonefinder-6.5.7\n"
     ]
    }
   ],
   "source": [
    "!pip install timezonefinder"
   ]
  },
  {
   "cell_type": "code",
   "execution_count": 3,
   "id": "ff0f04d3",
   "metadata": {},
   "outputs": [
    {
     "name": "stdout",
     "output_type": "stream",
     "text": [
      "Requirement already satisfied: pytz in /Users/arkadeepsarkar/anaconda3/lib/python3.11/site-packages (2022.7)\r\n"
     ]
    }
   ],
   "source": [
    "!pip install pytz"
   ]
  },
  {
   "cell_type": "code",
   "execution_count": 7,
   "id": "f522d6b9",
   "metadata": {},
   "outputs": [],
   "source": [
    "from tkinter import *\n",
    "import tkinter as tk\n",
    "from geopy.geocoders import Nominatim\n",
    "from tkinter import messagebox\n",
    "from timezonefinder import TimezoneFinder\n",
    "from datetime import datetime\n",
    "import requests\n",
    "import pytz\n",
    "\n",
    "# Initialize Tkinter app\n",
    "root = Tk()\n",
    "root.title(\"Weather App\")\n",
    "root.geometry(\"900x500+300+200\")\n",
    "root.resizable(False, False)\n",
    "\n",
    "# Function to get weather details\n",
    "def getWeather():\n",
    "    city = textfield.get()\n",
    "    if not city:\n",
    "        messagebox.showerror(\"Error\", \"Please enter a city name!\")\n",
    "        return\n",
    "    \n",
    "    try:\n",
    "        # Geolocation with Nominatim\n",
    "        geolocator = Nominatim(user_agent=\"my_weather_app\")\n",
    "        location = geolocator.geocode(city)\n",
    "        if location is None:\n",
    "            raise ValueError(\"City not found\")\n",
    "        \n",
    "        # Timezone finder\n",
    "        obj = TimezoneFinder()\n",
    "        result = obj.timezone_at(lng=location.longitude, lat=location.latitude)\n",
    "        home = pytz.timezone(result)\n",
    "        local_time = datetime.now(home)\n",
    "        current_time = local_time.strftime(\"%I:%M %p\")\n",
    "        clock.config(text=current_time)\n",
    "        name.config(text=\"CURRENT WEATHER\")\n",
    "\n",
    "        # OpenWeatherMap API integration\n",
    "        api_key = \"http://api.openweathermap.org/geo/1.0/direct?q=\"+city+\"e253ff0e00ae6dc12317c19aa87536b9\"  # Replace with your OpenWeatherMap API key\n",
    "        weather_url = f\"https://api.openweathermap.org/data/2.5/weather?q={city}&appid={api_key}&units=metric\"\n",
    "        response = requests.get(weather_url)\n",
    "        weather_data = response.json()\n",
    "\n",
    "        if weather_data.get(\"cod\") != 200:\n",
    "            raise ValueError(weather_data.get(\"message\", \"Invalid API response\"))\n",
    "\n",
    "        # Extract weather details\n",
    "        temperature = weather_data[\"main\"][\"temp\"]\n",
    "        description = weather_data[\"weather\"][0][\"description\"]\n",
    "        wind = weather_data[\"wind\"][\"speed\"]\n",
    "        humidity = weather_data[\"main\"][\"humidity\"]\n",
    "        pressure = weather_data[\"main\"][\"pressure\"]\n",
    "\n",
    "        # Update labels with weather data\n",
    "        t.config(text=f\"{temperature}°C\")\n",
    "        c.config(text=description.capitalize())\n",
    "        w.config(text=f\"{wind} m/s\")\n",
    "        h.config(text=f\"{humidity}%\")\n",
    "        d.config(text=description.capitalize())\n",
    "        p.config(text=f\"{pressure} hPa\")\n",
    "    except Exception as e:\n",
    "        messagebox.showerror(\"Error\", f\"An error occurred: {str(e)}\")\n",
    "\n",
    "# GUI Components\n",
    "# Search box\n",
    "Search_image = PhotoImage(file=\"search.png\")  # Ensure this file exists\n",
    "myimage = Label(image=Search_image)\n",
    "myimage.place(x=20, y=20)\n",
    "\n",
    "textfield = tk.Entry(root, justify=\"center\", width=17, font=(\"poppins\", 25, \"bold\"), bg=\"black\", border=0, fg=\"white\")\n",
    "textfield.place(x=110, y=40)\n",
    "textfield.focus()\n",
    "\n",
    "Search_icon = PhotoImage(file=\"search_icon.png\")  # Ensure this file exists\n",
    "myimage_icon = Button(image=Search_icon, borderwidth=0, cursor=\"hand2\", bg=\"#404040\", command=getWeather)\n",
    "myimage_icon.place(x=400, y=34)\n",
    "\n",
    "# Logo\n",
    "Logo_image = PhotoImage(file=\"logo.png\")  # Ensure this file exists\n",
    "logo = Label(image=Logo_image)\n",
    "logo.place(x=150, y=100)\n",
    "\n",
    "# Bottom box\n",
    "Frame_image = PhotoImage(file=\"box.png\")  # Ensure this file exists\n",
    "frame_myimage = Label(image=Frame_image)\n",
    "frame_myimage.pack(padx=5, pady=5, side=BOTTOM)\n",
    "\n",
    "# Time and weather details\n",
    "name = Label(root, font=(\"arial\", 15, \"bold\"))\n",
    "name.place(x=30, y=100)\n",
    "clock = Label(root, font=(\"Helvetica\", 20))\n",
    "clock.place(x=30, y=130)\n",
    "\n",
    "# Weather labels\n",
    "label1 = Label(root, text=\"WIND\", font=(\"Helvetica\", 15, \"bold\"), fg=\"white\", bg=\"#1ab5ef\")\n",
    "label1.place(x=120, y=400)\n",
    "\n",
    "label2 = Label(root, text=\"HUMIDITY\", font=(\"Helvetica\", 15, \"bold\"), fg=\"white\", bg=\"#1ab5ef\")\n",
    "label2.place(x=250, y=400)\n",
    "\n",
    "label3 = Label(root, text=\"DESCRIPTION\", font=(\"Helvetica\", 15, \"bold\"), fg=\"white\", bg=\"#1ab5ef\")\n",
    "label3.place(x=430, y=400)\n",
    "\n",
    "label4 = Label(root, text=\"PRESSURE\", font=(\"Helvetica\", 15, \"bold\"), fg=\"white\", bg=\"#1ab5ef\")\n",
    "label4.place(x=650, y=400)\n",
    "\n",
    "t = Label(font=(\"arial\", 70, \"bold\"), fg=\"#ee666d\")\n",
    "t.place(x=400, y=150)\n",
    "c = Label(font=(\"arial\", 15, \"bold\"))\n",
    "c.place(x=400, y=250)\n",
    "\n",
    "w = Label(text=\"...\", font=(\"arial\", 20, \"bold\"), bg=\"#1ab5ef\")\n",
    "w.place(x=120, y=430)\n",
    "h = Label(text=\"...\", font=(\"arial\", 20, \"bold\"), bg=\"#1ab5ef\")\n",
    "h.place(x=280, y=430)\n",
    "d = Label(text=\"...\", font=(\"arial\", 20, \"bold\"), bg=\"#1ab5ef\")\n",
    "d.place(x=450, y=430)\n",
    "p = Label(text=\"...\", font=(\"arial\", 20, \"bold\"), bg=\"#1ab5ef\")\n",
    "p.place(x=670, y=430)\n",
    "\n",
    "root.mainloop()"
   ]
  },
  {
   "cell_type": "code",
   "execution_count": 4,
   "id": "7cbbeb36",
   "metadata": {},
   "outputs": [],
   "source": [
    "import os\n",
    "os.environ[\"PYDEVD_DISABLE_FILE_VALIDATION\"] = \"1\""
   ]
  },
  {
   "cell_type": "code",
   "execution_count": null,
   "id": "447824df",
   "metadata": {},
   "outputs": [],
   "source": []
  }
 ],
 "metadata": {
  "kernelspec": {
   "display_name": "Python 3 (ipykernel)",
   "language": "python",
   "name": "python3"
  },
  "language_info": {
   "codemirror_mode": {
    "name": "ipython",
    "version": 3
   },
   "file_extension": ".py",
   "mimetype": "text/x-python",
   "name": "python",
   "nbconvert_exporter": "python",
   "pygments_lexer": "ipython3",
   "version": "3.11.4"
  }
 },
 "nbformat": 4,
 "nbformat_minor": 5
}
