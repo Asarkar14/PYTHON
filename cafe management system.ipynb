{
 "cells": [
  {
   "cell_type": "code",
   "execution_count": 1,
   "id": "4c5ac905",
   "metadata": {},
   "outputs": [],
   "source": [
    "#defne the menu of the cafe\n"
   ]
  },
  {
   "cell_type": "code",
   "execution_count": null,
   "id": "453ad55c",
   "metadata": {},
   "outputs": [
    {
     "name": "stdout",
     "output_type": "stream",
     "text": [
      "Welcome to PYTHON Cafe\n",
      "Pizza: Rs.150\n",
      "Cappucino: Rs.275\n",
      "Latte: Rs.250\n",
      "Espresso: Rs.300\n",
      "Cheese cake: Rs.215\n",
      "Burger: Rs.180\n"
     ]
    }
   ],
   "source": [
    "menu= {\n",
    "    'Pizza':150,\n",
    "    'Cappucino':275,\n",
    "    'Latte':250,\n",
    "    'Espresso':300,\n",
    "    'Cheese cake':215,\n",
    "    'Burger':180,\n",
    "    \n",
    "}\n",
    "\n",
    "#greet\n",
    "\n",
    "print (\"Welcome to PYTHON Cafe\")\n",
    "print(\"Pizza: Rs.150\\nCappucino: Rs.275\\nLatte: Rs.250\\nEspresso: Rs.300\\nCheese cake: Rs.215\\nBurger: Rs.180\")\n",
    "\n",
    "order_total=0\n",
    "\n",
    "item_1=input(\"Enter the name of the item you want to order=\")\n",
    "if item_1 in menu:\n",
    "    order_total += menu[item_1]\n",
    "    print(f\"Your item {item_1} has been added to your\" )\n",
    "    \n",
    "else:\n",
    "    print(f\"Ordered item {item_1} is not available yet!\")\n",
    "    \n",
    "another_order=input(\"Do you want to add another item? (Yes/No)\")\n",
    "    \n",
    "if another_order==\"Yes\":\n",
    "    item_2=input(\"Enter the name of the second item=\")\n",
    "    if item_2 in menu:\n",
    "        order_total += manu[item_2]\n",
    "else:\n",
    "    print(f\"Ordered item {item_2} is not available!\")\n",
    "          \n",
    "print(f\"The total amount of items to pay is {order_total}\")"
   ]
  },
  {
   "cell_type": "code",
   "execution_count": null,
   "id": "72999e2e",
   "metadata": {},
   "outputs": [],
   "source": []
  }
 ],
 "metadata": {
  "kernelspec": {
   "display_name": "Python 3 (ipykernel)",
   "language": "python",
   "name": "python3"
  },
  "language_info": {
   "codemirror_mode": {
    "name": "ipython",
    "version": 3
   },
   "file_extension": ".py",
   "mimetype": "text/x-python",
   "name": "python",
   "nbconvert_exporter": "python",
   "pygments_lexer": "ipython3",
   "version": "3.11.4"
  }
 },
 "nbformat": 4,
 "nbformat_minor": 5
}
