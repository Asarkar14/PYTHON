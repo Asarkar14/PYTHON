{
 "cells": [
  {
   "cell_type": "code",
   "execution_count": 1,
   "id": "d9feb409",
   "metadata": {},
   "outputs": [
    {
     "name": "stdout",
     "output_type": "stream",
     "text": [
      "Welcome to Hangman!\n",
      "Current word: ___\n",
      "Guess a letter: a\n",
      "Incorrect guess. Try again.\n",
      "Attempts remaining: 9\n",
      "Current word: ___\n",
      "Guess a letter: c\n",
      "Incorrect guess. Try again.\n",
      "Attempts remaining: 8\n",
      "Current word: ___\n",
      "Guess a letter: s\n",
      "Incorrect guess. Try again.\n",
      "Attempts remaining: 7\n",
      "Current word: ___\n",
      "Guess a letter: j\n",
      "Incorrect guess. Try again.\n",
      "Attempts remaining: 6\n",
      "Current word: ___\n",
      "Guess a letter: p\n",
      "Good guess!\n",
      "Current word: p_p\n",
      "Guess a letter: h\n",
      "Good guess!\n",
      "Congratulations! You guessed the word: php\n"
     ]
    }
   ],
   "source": [
    "import random\n",
    "\n",
    "def choose_word():\n",
    "    words = [\"python\", \"java\", \"ruby\", \"javascript\", \"html\", \"css\", \"swift\", \"kotlin\", \"php\", \"csharp\"]\n",
    "    return random.choice(words)\n",
    "\n",
    "def display_word(word, guessed_letters):\n",
    "    display = \"\"\n",
    "    for letter in word:\n",
    "        if letter in guessed_letters:\n",
    "            display += letter\n",
    "        else:\n",
    "            display += \"_\"\n",
    "    return display\n",
    "\n",
    "def hangman():\n",
    "    print(\"Welcome to Hangman!\")\n",
    "    word_to_guess = choose_word()\n",
    "    guessed_letters = []\n",
    "    max_attempts = 10 # Adjust this value based on your preference\n",
    "\n",
    "    while max_attempts > 0:\n",
    "        current_display = display_word(word_to_guess, guessed_letters)\n",
    "        print(f\"Current word: {current_display}\")\n",
    "        guess = input(\"Guess a letter: \").lower()\n",
    "\n",
    "        if guess.isalpha() and len(guess) == 1:\n",
    "            if guess in guessed_letters:\n",
    "                print(\"You already guessed that letter. Try again.\")\n",
    "            elif guess in word_to_guess:\n",
    "                print(\"Good guess!\")\n",
    "                guessed_letters.append(guess)\n",
    "            else:\n",
    "                print(\"Incorrect guess. Try again.\")\n",
    "                max_attempts -= 1\n",
    "                print(f\"Attempts remaining: {max_attempts}\")\n",
    "        else:\n",
    "            print(\"Invalid input. Please enter a single letter.\")\n",
    "\n",
    "        if set(word_to_guess) == set(guessed_letters):\n",
    "            print(f\"Congratulations! You guessed the word: {word_to_guess}\")\n",
    "            break\n",
    "\n",
    "    if max_attempts == 0:\n",
    "        print(f\"Sorry, you ran out of attempts. The word was: {word_to_guess}\")\n",
    "\n",
    "if __name__ == \"__main__\":\n",
    "    hangman()\n"
   ]
  },
  {
   "cell_type": "code",
   "execution_count": null,
   "id": "a44b2631",
   "metadata": {},
   "outputs": [],
   "source": []
  }
 ],
 "metadata": {
  "kernelspec": {
   "display_name": "Python 3 (ipykernel)",
   "language": "python",
   "name": "python3"
  },
  "language_info": {
   "codemirror_mode": {
    "name": "ipython",
    "version": 3
   },
   "file_extension": ".py",
   "mimetype": "text/x-python",
   "name": "python",
   "nbconvert_exporter": "python",
   "pygments_lexer": "ipython3",
   "version": "3.11.4"
  }
 },
 "nbformat": 4,
 "nbformat_minor": 5
}
